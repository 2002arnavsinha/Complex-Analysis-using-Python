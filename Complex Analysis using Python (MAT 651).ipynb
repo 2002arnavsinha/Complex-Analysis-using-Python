{
 "cells": [
  {
   "cell_type": "markdown",
   "id": "5b074ba7",
   "metadata": {},
   "source": [
    "# <center>Complex Analysis using Python (MAT 651) </center>\n",
    "# <center> Lab Record </center>"
   ]
  },
  {
   "cell_type": "markdown",
   "id": "3b3682fa",
   "metadata": {},
   "source": [
    "## Arnav  Sinha, 2040811\n"
   ]
  },
  {
   "cell_type": "markdown",
   "id": "bc01da7e",
   "metadata": {},
   "source": [
    "###  <center> LAB 1: Revision </center>\n",
    "\n",
    "### <center> Date: 02/01/23 to 07/01/23 </center>"
   ]
  },
  {
   "cell_type": "markdown",
   "id": "4529826d",
   "metadata": {},
   "source": [
    "### Aim: \n",
    "The main aim of Lab 1 is to review and revise basic concepts of python. Particularly focusing on basic operations, plotting, using various libraries like pandas, cmath, etc. "
   ]
  },
  {
   "cell_type": "markdown",
   "id": "8acee3c0",
   "metadata": {},
   "source": [
    "### 1. Display the current date"
   ]
  },
  {
   "cell_type": "code",
   "execution_count": 20,
   "id": "88e94896",
   "metadata": {},
   "outputs": [
    {
     "data": {
      "text/plain": [
       "datetime.date(2023, 3, 28)"
      ]
     },
     "execution_count": 20,
     "metadata": {},
     "output_type": "execute_result"
    }
   ],
   "source": [
    "from datetime import *\n",
    "\n",
    "date.today()"
   ]
  },
  {
   "cell_type": "markdown",
   "id": "2c4e691c",
   "metadata": {},
   "source": [
    "### 2. Write a program to accept the user's first and last name and print it with space between them."
   ]
  },
  {
   "cell_type": "code",
   "execution_count": 1,
   "id": "bee5eb0b",
   "metadata": {},
   "outputs": [
    {
     "name": "stdout",
     "output_type": "stream",
     "text": [
      "Enter your first name: Arnav \n",
      "Enter your last name: Sinha\n",
      "Your full name is:  Arnav   Sinha\n"
     ]
    }
   ],
   "source": [
    "f= str(input(\"Enter your first name: \"))\n",
    "l= str(input(\"Enter your last name: \"))\n",
    "\n",
    "print(\"Your full name is: \", f, \"\",l)"
   ]
  },
  {
   "cell_type": "markdown",
   "id": "40f03b68",
   "metadata": {},
   "source": [
    "### 3. Write a python program which accepts a number from the user and predicts whether it is even or odd"
   ]
  },
  {
   "cell_type": "code",
   "execution_count": 2,
   "id": "0885f982",
   "metadata": {},
   "outputs": [
    {
     "name": "stdout",
     "output_type": "stream",
     "text": [
      "Enter a number: 4\n",
      "The number is even\n"
     ]
    }
   ],
   "source": [
    "n=int(input(\"Enter a number: \"))\n",
    "\n",
    "if n%2 == 0:\n",
    "    print(\"The number is even\")\n",
    "else:\n",
    "    print(\"The number is odd\")"
   ]
  },
  {
   "cell_type": "markdown",
   "id": "fb6667f9",
   "metadata": {},
   "source": [
    "### 4. Write a program to divide two numbers only if the denominator is not 0"
   ]
  },
  {
   "cell_type": "code",
   "execution_count": 3,
   "id": "43cf68d5",
   "metadata": {},
   "outputs": [
    {
     "name": "stdout",
     "output_type": "stream",
     "text": [
      "Enter a number: 4\n",
      "Enter a number: 5\n",
      "0.8\n"
     ]
    }
   ],
   "source": [
    "a1=int(input(\"Enter a number: \"))\n",
    "b1=int(input(\"Enter a number: \"))\n",
    "\n",
    "if b1 == 0:\n",
    "    print(\"Division is not possible\")\n",
    "else:\n",
    "    print(a1/b1)"
   ]
  },
  {
   "cell_type": "markdown",
   "id": "ec5179fd",
   "metadata": {},
   "source": [
    "### 5. Write a program to identify the largest of the given 3 numbers."
   ]
  },
  {
   "cell_type": "code",
   "execution_count": 4,
   "id": "f656f79e",
   "metadata": {},
   "outputs": [
    {
     "name": "stdout",
     "output_type": "stream",
     "text": [
      "Enter a number: 1\n",
      "Enter a number: 2\n",
      "Enter a number: 3\n",
      "The largest number is:  3\n"
     ]
    }
   ],
   "source": [
    "a=int(input(\"Enter a number: \"))\n",
    "b=int(input(\"Enter a number: \"))\n",
    "c=int(input(\"Enter a number: \"))\n",
    "\n",
    "m=max(a,b,c)\n",
    "\n",
    "print(\"The largest number is: \", m)"
   ]
  },
  {
   "cell_type": "markdown",
   "id": "e1b9b9da",
   "metadata": {},
   "source": [
    "### 6. Plot a scatter plot (2D, 3D) for the given data.\n",
    "\n",
    "year = 2010, 2011, 2012, 2013, 2014, 2015, 2016, 2017, 2018, 2019, 2020, 2021\n",
    "\n",
    "price = 156, 166.9, 189, 196.9, 207.1, 247, 288, 302,346, 388, 399, 402"
   ]
  },
  {
   "cell_type": "code",
   "execution_count": 3,
   "id": "c155da1f",
   "metadata": {
    "scrolled": true
   },
   "outputs": [
    {
     "data": {
      "image/png": "[encoded data removed]",
      "text/plain": [
       "<Figure size 432x288 with 1 Axes>"
      ]
     },
     "metadata": {
      "needs_background": "light"
     },
     "output_type": "display_data"
    }
   ],
   "source": [
    "import matplotlib.pyplot as plt\n",
    "\n",
    "year = [2010, 2011, 2012, 2013, 2014, 2015, 2016, 2017, 2018, 2019, 2020, 2021]\n",
    "\n",
    "price = [156, 166.9, 189, 196.9, 207.1, 247, 288, 302,346, 388, 399, 402]\n",
    "\n",
    "plt.scatter(year, price)\n",
    "\n",
    "None"
   ]
  },
  {
   "cell_type": "markdown",
   "id": "ab801fed",
   "metadata": {},
   "source": [
    "### 7. Create a 3D scatter plot for the cosine and sine functions"
   ]
  },
  {
   "cell_type": "code",
   "execution_count": 8,
   "id": "6db93b55",
   "metadata": {},
   "outputs": [
    {
     "data": {
      "image/png": "[encoded data removed]",
      "text/plain": [
       "<Figure size 432x288 with 1 Axes>"
      ]
     },
     "metadata": {
      "needs_background": "light"
     },
     "output_type": "display_data"
    }
   ],
   "source": [
    "import numpy as np\n",
    "import matplotlib.pyplot as plt\n",
    "from mpl_toolkits import mplot3d\n",
    "\n",
    "ax=plt.axes(projection='3d')\n",
    "\n",
    "t=np.linspace(-np.pi, np.pi,100)\n",
    "x=np.cos(t)\n",
    "y=np.sin(t)\n",
    "\n",
    "ax.plot3D(x,t,'red',lw=3)\n",
    "ax.plot3D(y,t,'g', lw=3)\n",
    "\n",
    "None"
   ]
  },
  {
   "cell_type": "markdown",
   "id": "a806ea9f",
   "metadata": {},
   "source": [
    "### 8. Create 5 subplots with the functions $e^x$, $e^x$ $sinx$, $cosx^2 + sinx$, $ log(secx)$, $x^2 + 3x - 4$ "
   ]
  },
  {
   "cell_type": "code",
   "execution_count": 13,
   "id": "bae4507f",
   "metadata": {},
   "outputs": [
    {
     "name": "stderr",
     "output_type": "stream",
     "text": [
      "<ipython-input-13-eb3438e21002>:9: RuntimeWarning: invalid value encountered in log\n",
      "  b= np.log(1/np.cos(x))\n"
     ]
    },
    {
     "data": {
      "image/png": "[encoded data removed]",
      "text/plain": [
       "<Figure size 432x288 with 5 Axes>"
      ]
     },
     "metadata": {
      "needs_background": "light"
     },
     "output_type": "display_data"
    }
   ],
   "source": [
    "import numpy as np\n",
    "import matplotlib.pyplot as plt\n",
    "\n",
    "x=np.linspace(-5,5,100)\n",
    "z=np.square(x) + 3*x -4\n",
    "a=np.square(np.cos(x)) + np.sin(x)\n",
    "y=np.exp(x)\n",
    "w=np.exp(x)*np.sin(x)\n",
    "b= np.log(1/np.cos(x))\n",
    "\n",
    "plt.title(\"line plot\")\n",
    "plt.subplot(2,3,1)\n",
    "plt.plot(x,z,lw=2,color='red')\n",
    "plt.subplot(2,3,2)\n",
    "plt.plot(x,a,lw=2,color='blue')\n",
    "plt.subplot(2,3,3)\n",
    "plt.plot(x,y,lw=2,color='green')\n",
    "plt.subplot(2,3,4)\n",
    "plt.plot(x,w,lw=2,color='black')\n",
    "plt.subplot(2,3,5)\n",
    "plt.plot(x,b,lw=2,color='black')\n",
    "\n",
    "None"
   ]
  },
  {
   "cell_type": "markdown",
   "id": "84d086a6",
   "metadata": {},
   "source": [
    "### 9. Print the divisors of a given number"
   ]
  },
  {
   "cell_type": "code",
   "execution_count": 19,
   "id": "3e03bbb8",
   "metadata": {},
   "outputs": [
    {
     "name": "stdout",
     "output_type": "stream",
     "text": [
      "Enter the number:8\n",
      "The divisors are:\n",
      "1\n",
      "2\n",
      "4\n"
     ]
    }
   ],
   "source": [
    "num=int(input(\"Enter the number:\"))\n",
    "print(\"The divisors are:\")\n",
    "\n",
    "i=1\n",
    "while(i<num):\n",
    "    if(num%i==0):\n",
    "        print(i)\n",
    "    i=i+1    "
   ]
  },
  {
   "cell_type": "markdown",
   "id": "7aaaa5ef",
   "metadata": {},
   "source": [
    "### 10. Create and import the CSV file with atleast 15 entries and obtain the graph for the data"
   ]
  },
  {
   "cell_type": "code",
   "execution_count": 3,
   "id": "7316e3d2",
   "metadata": {},
   "outputs": [
    {
     "name": "stdout",
     "output_type": "stream",
     "text": [
      "    Stronium Levels    Water Bodies\n",
      "0              28.2  Grayson's Pond\n",
      "1              33.2  Grayson's Pond\n",
      "2              36.4  Grayson's Pond\n",
      "3              34.6  Grayson's Pond\n",
      "4              29.1  Grayson's Pond\n",
      "5              31.0  Grayson's Pond\n",
      "6              39.6     Beaver Lake\n",
      "7              40.8     Beaver Lake\n",
      "8              37.9     Beaver Lake\n",
      "9              37.1     Beaver Lake\n",
      "10             43.6     Beaver Lake\n",
      "11             42.4     Beaver Lake\n",
      "12             46.3   Angler's Cove\n",
      "13             42.1   Angler's Cove\n",
      "14             43.5   Angler's Cove\n",
      "15             48.8   Angler's Cove\n",
      "16             43.7   Angler's Cove\n",
      "17             40.1   Angler's Cove\n",
      "18             41.0  Appletree Lake\n",
      "19             44.1  Appletree Lake\n",
      "20             46.4  Appletree Lake\n",
      "21             40.2  Appletree Lake\n",
      "22             38.6  Appletree Lake\n",
      "23             36.3  Appletree Lake\n",
      "24             56.3      Rock River\n",
      "25             54.1      Rock River\n",
      "26             59.4      Rock River\n",
      "27             62.7      Rock River\n",
      "28             60.0      Rock River\n",
      "29             57.3      Rock River\n"
     ]
    }
   ],
   "source": [
    "import pandas as pd\n",
    "\n",
    "df = pd.read_csv('Stroniumdata.csv')\n",
    "print(df)"
   ]
  },
  {
   "cell_type": "markdown",
   "id": "11cc9316",
   "metadata": {},
   "source": [
    "### Homework"
   ]
  },
  {
   "cell_type": "markdown",
   "id": "5a527d5e",
   "metadata": {},
   "source": [
    "### 1. Find roots of a quadratic equation and classify them."
   ]
  },
  {
   "cell_type": "code",
   "execution_count": 2,
   "id": "2df5124b",
   "metadata": {},
   "outputs": [
    {
     "name": "stdout",
     "output_type": "stream",
     "text": [
      "Insert coefficient a: 2\n",
      "Insert coefficient b: 3\n",
      "Insert coefficient c: 4\n",
      "The function has two complex (conjugate) roots: (-0.75+1.1989578808281798j)  and (-0.75-1.1989578808281798j)\n"
     ]
    }
   ],
   "source": [
    "import math\n",
    " \n",
    "a = float(input(\"Insert coefficient a: \"))\n",
    "b = float(input(\"Insert coefficient b: \"))\n",
    "c = float(input(\"Insert coefficient c: \"))\n",
    " \n",
    "discriminant = b**2 - 4 * a * c\n",
    " \n",
    "if discriminant >= 0:\n",
    "    x_1=(-b+math.sqrt(discriminant))/2*a\n",
    "    x_2=(-b-math.sqrt(discriminant))/2*a\n",
    "else:\n",
    "    x_1= complex((-b/(2*a)),math.sqrt(-discriminant)/(2*a))\n",
    "    x_2= complex((-b/(2*a)),-math.sqrt(-discriminant)/(2*a))\n",
    "\n",
    "if discriminant > 0:\n",
    "    print(\"The function has two distinct real roots: {} and {}\".format(x_1,x_2))\n",
    "elif discriminant == 0:\n",
    "    print(\"The function has one double root: \", x_1)\n",
    "else:\n",
    "    print(\"The function has two complex (conjugate) roots: {}  and {}\".format(x_1,x_2))\n"
   ]
  },
  {
   "cell_type": "markdown",
   "id": "49feb74a",
   "metadata": {},
   "source": [
    "### 2. Print the Fibbanocci series until the given number of terms"
   ]
  },
  {
   "cell_type": "code",
   "execution_count": 15,
   "id": "86e41eed",
   "metadata": {},
   "outputs": [
    {
     "data": {
      "text/plain": [
       "8"
      ]
     },
     "execution_count": 15,
     "metadata": {},
     "output_type": "execute_result"
    }
   ],
   "source": [
    "import math\n",
    "\n",
    "def fibonacci(n):\n",
    "    if n == 0:\n",
    "        return 0\n",
    "    elif n == 1:\n",
    "        return 1\n",
    "    else:\n",
    "        return fibonacci(n-1) + fibonacci(n-2)\n",
    "    \n",
    "\n",
    "fibonacci(6)"
   ]
  },
  {
   "cell_type": "markdown",
   "id": "cee0f1f9",
   "metadata": {},
   "source": [
    "### 3. Check if the given number is prime or composite"
   ]
  },
  {
   "cell_type": "code",
   "execution_count": 1,
   "id": "49348ecb",
   "metadata": {},
   "outputs": [
    {
     "name": "stdout",
     "output_type": "stream",
     "text": [
      "Enter the number:5\n",
      "The number is prime.\n"
     ]
    }
   ],
   "source": [
    "num=int(input(\"Enter the number:\"))\n",
    "\n",
    "i=1\n",
    "j=0\n",
    "\n",
    "while(i<num):\n",
    "    if(num%i==0):\n",
    "        j=j+1\n",
    "    i=i+1    \n",
    "\n",
    "if(j>1):\n",
    "    print(\"The number is composite.\")\n",
    "else:\n",
    "    print(\"The number is prime.\")"
   ]
  },
  {
   "cell_type": "markdown",
   "id": "46737a0b",
   "metadata": {},
   "source": [
    "### 4. Obtain the sum of the prime factors of a given number."
   ]
  },
  {
   "cell_type": "code",
   "execution_count": 5,
   "id": "00b7b837",
   "metadata": {},
   "outputs": [
    {
     "name": "stdout",
     "output_type": "stream",
     "text": [
      "Enter the number:59\n",
      "0\n"
     ]
    }
   ],
   "source": [
    "num=int(input(\"Enter the number:\"))\n",
    "\n",
    "i=1\n",
    "j=2\n",
    "\n",
    "sum=0\n",
    "\n",
    "while(i<num):\n",
    "    if(num%i==0):\n",
    "        p=1\n",
    "        while(j<i/2):\n",
    "            if(i%j==0):\n",
    "                p=0\n",
    "            j=j+1\n",
    "        if(p==1):\n",
    "            sum=sum+i\n",
    "    i=i+1    \n",
    "    \n",
    "print(sum-1)"
   ]
  },
  {
   "cell_type": "markdown",
   "id": "e0b46fe8",
   "metadata": {},
   "source": [
    "### 5. Find the factorial of any given number"
   ]
  },
  {
   "cell_type": "code",
   "execution_count": 6,
   "id": "2e1e3854",
   "metadata": {},
   "outputs": [
    {
     "name": "stdout",
     "output_type": "stream",
     "text": [
      "Enter a number: 3\n",
      "6\n"
     ]
    }
   ],
   "source": [
    "a = int(input(\"Enter a number: \"))\n",
    "fact = 1\n",
    "while a>1:\n",
    "    fact=fact*a\n",
    "    a=a-1\n",
    "print(fact)"
   ]
  },
  {
   "cell_type": "markdown",
   "id": "8d54315f",
   "metadata": {},
   "source": [
    "### 6. Solve the following"
   ]
  },
  {
   "cell_type": "markdown",
   "id": "51772ccb",
   "metadata": {},
   "source": [
    "#### A) $\\dfrac{dy}{dx} = -6xy, y(0)=0$ "
   ]
  },
  {
   "cell_type": "code",
   "execution_count": 4,
   "id": "41c1eeb5",
   "metadata": {},
   "outputs": [
    {
     "name": "stdout",
     "output_type": "stream",
     "text": [
      "Eq(6*x*y(x) + Derivative(y(x), x), 0)\n"
     ]
    },
    {
     "data": {
      "text/latex": [
       "$\\displaystyle 6 x y{\\left(x \\right)} + \\frac{d}{d x} y{\\left(x \\right)} = 0$"
      ],
      "text/plain": [
       "Eq(6*x*y(x) + Derivative(y(x), x), 0)"
      ]
     },
     "metadata": {},
     "output_type": "display_data"
    },
    {
     "data": {
      "text/latex": [
       "$\\displaystyle y{\\left(x \\right)} = C_{1} e^{- 3 x^{2}}$"
      ],
      "text/plain": [
       "Eq(y(x), C1*exp(-3*x**2))"
      ]
     },
     "execution_count": 4,
     "metadata": {},
     "output_type": "execute_result"
    }
   ],
   "source": [
    "from sympy import *\n",
    "\n",
    "x=Symbol('x')\n",
    "y=Function('y')(x) \n",
    "D=Eq(6*x*y+diff(y,x,1),0)\n",
    "print(D)\n",
    "display(D)\n",
    "dsolve(D,y)"
   ]
  },
  {
   "cell_type": "code",
   "execution_count": 5,
   "id": "9aeb81df",
   "metadata": {},
   "outputs": [
    {
     "name": "stdout",
     "output_type": "stream",
     "text": [
      "Eq(y(0), C1)\n"
     ]
    }
   ],
   "source": [
    "print(dsolve(D,y).subs({x:0}))"
   ]
  },
  {
   "cell_type": "markdown",
   "id": "62c42f1b",
   "metadata": {},
   "source": [
    "#### B) $\\dfrac{dy}{dx} = k + \\dfrac{y}{2}, y(0) = 1$ (solve and plot for atleast 3 values of k)"
   ]
  },
  {
   "cell_type": "code",
   "execution_count": 6,
   "id": "8fbb1a6b",
   "metadata": {},
   "outputs": [
    {
     "name": "stdout",
     "output_type": "stream",
     "text": [
      "Eq(-k - y(x)/2 + Derivative(y(x), x), 0)\n"
     ]
    },
    {
     "data": {
      "text/latex": [
       "$\\displaystyle - k - \\frac{y{\\left(x \\right)}}{2} + \\frac{d}{d x} y{\\left(x \\right)} = 0$"
      ],
      "text/plain": [
       "Eq(-k - y(x)/2 + Derivative(y(x), x), 0)"
      ]
     },
     "metadata": {},
     "output_type": "display_data"
    },
    {
     "data": {
      "text/latex": [
       "$\\displaystyle y{\\left(x \\right)} = C_{1} e^{\\frac{x}{2}} - 2 k$"
      ],
      "text/plain": [
       "Eq(y(x), C1*exp(x/2) - 2*k)"
      ]
     },
     "execution_count": 6,
     "metadata": {},
     "output_type": "execute_result"
    }
   ],
   "source": [
    "k = Symbol('k')\n",
    "C1= Symbol('C1')\n",
    "y=Function('y')(x) \n",
    "D=Eq(diff(y,x,1)-y/2-k,0) \n",
    "print(D)\n",
    "display(D)\n",
    "dsolve(D,y)"
   ]
  },
  {
   "cell_type": "code",
   "execution_count": 7,
   "id": "41bf7e27",
   "metadata": {},
   "outputs": [
    {
     "data": {
      "text/latex": [
       "$\\displaystyle y{\\left(x \\right)} = C_{1} e^{\\frac{x}{2}} - 2 k$"
      ],
      "text/plain": [
       "Eq(y(x), C1*exp(x/2) - 2*k)"
      ]
     },
     "metadata": {},
     "output_type": "display_data"
    },
    {
     "data": {
      "text/plain": [
       "[2*k + 1]"
      ]
     },
     "execution_count": 7,
     "metadata": {},
     "output_type": "execute_result"
    }
   ],
   "source": [
    "sol=dsolve(D,y)\n",
    "display(sol)\n",
    "C1= Symbol('C1')\n",
    "k=Symbol('k')\n",
    "constants=solve(sol.subs({x:0,y:1}),C1)\n",
    "constants"
   ]
  },
  {
   "cell_type": "code",
   "execution_count": 8,
   "id": "1e22b9de",
   "metadata": {
    "scrolled": true
   },
   "outputs": [
    {
     "data": {
      "text/plain": [
       "[C1/2 - 1/2]"
      ]
     },
     "execution_count": 8,
     "metadata": {},
     "output_type": "execute_result"
    }
   ],
   "source": [
    "constants=solve(sol.subs({x:0,y:1}),k)\n",
    "constants"
   ]
  },
  {
   "cell_type": "markdown",
   "id": "fdb611ad",
   "metadata": {},
   "source": [
    "### Date: 09/01/23"
   ]
  },
  {
   "cell_type": "markdown",
   "id": "6ecc1d7f",
   "metadata": {},
   "source": [
    "### 1. Write a program to find the sum of the squares of first n natural numbers."
   ]
  },
  {
   "cell_type": "code",
   "execution_count": 7,
   "id": "0c786f5f",
   "metadata": {},
   "outputs": [
    {
     "name": "stdout",
     "output_type": "stream",
     "text": [
      "Enter n : 67\n",
      "Sum : 102510\n"
     ]
    }
   ],
   "source": [
    "def sumOfSquares(n) :\n",
    "    if n < 0:\n",
    "        return\n",
    "    sum = 0\n",
    "    for i in range(n+1):\n",
    "        sum += i*i\n",
    "    return sum\n",
    "\n",
    "n = int(input('Enter n : '))\n",
    "sum = sumOfSquares(n)\n",
    "print(f'Sum : {sum}')"
   ]
  },
  {
   "cell_type": "markdown",
   "id": "a3710e5e",
   "metadata": {},
   "source": [
    "### 2. Write a python program to check whether a given number is an Armstrong number or not"
   ]
  },
  {
   "cell_type": "markdown",
   "id": "b5bd3fe3",
   "metadata": {},
   "source": [
    "In numerical number theory, the Armstrong number definition is the number in any given number base, which forms the total of the same number, when each of its digits is raised to the power of the number of digits in the number.\n"
   ]
  },
  {
   "cell_type": "code",
   "execution_count": 8,
   "id": "482b825d",
   "metadata": {},
   "outputs": [
    {
     "name": "stdout",
     "output_type": "stream",
     "text": [
      "Enter a number: 2134\n",
      "2134 is not an Armstrong number\n"
     ]
    }
   ],
   "source": [
    "\n",
    "num = int(input(\"Enter a number: \"))\n",
    "\n",
    "# initialize sum\n",
    "sum = 0\n",
    "\n",
    "# find the sum of the cube of each digit\n",
    "temp = num\n",
    "while temp > 0:\n",
    "    digit = temp % 10\n",
    "    sum += digit ** 3\n",
    "    temp //= 10\n",
    "\n",
    "# display the result\n",
    "if num == sum:\n",
    "    print(num,\"is an Armstrong number\")\n",
    "else:\n",
    "    print(num,\"is not an Armstrong number\")"
   ]
  },
  {
   "cell_type": "markdown",
   "id": "24908add",
   "metadata": {},
   "source": [
    "### 3. Write a python program to draw scatter plot to comparing two subjects marks of Mathematics and Science"
   ]
  },
  {
   "cell_type": "code",
   "execution_count": 4,
   "id": "18d10164",
   "metadata": {},
   "outputs": [
    {
     "data": {
      "image/png": "[encoded data removed]",
      "text/plain": [
       "<Figure size 432x288 with 1 Axes>"
      ]
     },
     "metadata": {
      "needs_background": "light"
     },
     "output_type": "display_data"
    }
   ],
   "source": [
    "import matplotlib.pyplot as plt\n",
    "import pandas as pd\n",
    "math_marks = [88, 92, 80, 89, 100, 80, 60, 100, 80, 34]\n",
    "science_marks = [35, 79, 79, 48, 100, 88, 32, 45, 20, 30]\n",
    "marks_range = [10, 20, 30, 40, 50, 60, 70, 80, 90, 100]\n",
    "plt.scatter(marks_range, math_marks, label='Mathematics marks', color='black')\n",
    "plt.scatter(marks_range, science_marks, label='Science marks', color='red')\n",
    "plt.title('Scatter Plot')\n",
    "plt.xlabel('Marks Range')\n",
    "plt.ylabel('Marks Scored')\n",
    "plt.legend()\n",
    "plt.show()\n",
    "\n",
    "None"
   ]
  },
  {
   "cell_type": "markdown",
   "id": "7f967c1a",
   "metadata": {},
   "source": [
    "### 4. Write a python program to multiply two matrices entered by the user"
   ]
  },
  {
   "cell_type": "code",
   "execution_count": 9,
   "id": "623234d9",
   "metadata": {},
   "outputs": [
    {
     "name": "stdout",
     "output_type": "stream",
     "text": [
      "Enter a matrix: 1,2,3;7,8,2;51,23,8\n",
      "Enter a matrix: 5,6,7;5,6,7;5,6,7\n"
     ]
    },
    {
     "data": {
      "text/plain": [
       "matrix([[ 30,  36,  42],\n",
       "        [ 85, 102, 119],\n",
       "        [410, 492, 574]])"
      ]
     },
     "execution_count": 9,
     "metadata": {},
     "output_type": "execute_result"
    }
   ],
   "source": [
    "import numpy as np\n",
    "from sympy import *\n",
    "\n",
    "A=np.mat(input(\"Enter a matrix: \"))\n",
    "\n",
    "\n",
    "B=np.mat(input(\"Enter a matrix: \"))\n",
    "\n",
    "A*B"
   ]
  },
  {
   "cell_type": "markdown",
   "id": "7fae709e",
   "metadata": {},
   "source": [
    "### 5. Find the continuity of the following functions:\n",
    "\n",
    "1. $f(x) = cosx$  at  $x=0$\n",
    "\n",
    "2. $f(x) = 11x + 9$  at  $x=2$\n",
    "\n",
    "3. $f(x) = 9x^5$  at  $ x=0$\n",
    "\n",
    "4. $f(x) = -x/2 + 9$  at  $ x =8$\n",
    "\n",
    "5. $ f(x) = px + q$  at  $x = -q$ "
   ]
  },
  {
   "cell_type": "code",
   "execution_count": 10,
   "id": "ca5c3dab",
   "metadata": {},
   "outputs": [
    {
     "name": "stdout",
     "output_type": "stream",
     "text": [
      "True\n"
     ]
    }
   ],
   "source": [
    "## 1. cos(x) at x=0\n",
    "\n",
    "import sympy as sp\n",
    "import numpy as np\n",
    "x=sp.Symbol(\"x\")\n",
    "f= sp.cos(x)\n",
    "value=0\n",
    "\n",
    "def checkifcontinuous(func, x,symbol):\n",
    "    return (sp.limit(func,symbol,x).is_real)\n",
    "print(checkifcontinuous(f,value,x))"
   ]
  },
  {
   "cell_type": "code",
   "execution_count": 11,
   "id": "71136fb8",
   "metadata": {},
   "outputs": [
    {
     "name": "stdout",
     "output_type": "stream",
     "text": [
      "True\n"
     ]
    }
   ],
   "source": [
    "## 2. 11x + 9 at x= 2\n",
    "\n",
    "x=sp.Symbol(\"x\")\n",
    "f= 11*x + 9 \n",
    "value=2\n",
    "\n",
    "def checkifcontinuous(func, x,symbol):\n",
    "    return (sp.limit(func,symbol,x).is_real)\n",
    "print(checkifcontinuous(f,value,x))"
   ]
  },
  {
   "cell_type": "code",
   "execution_count": 12,
   "id": "a2f76311",
   "metadata": {},
   "outputs": [
    {
     "name": "stdout",
     "output_type": "stream",
     "text": [
      "True\n"
     ]
    }
   ],
   "source": [
    "## 3. 9x^2 at x=2\n",
    "\n",
    "x=sp.Symbol(\"x\")\n",
    "f= 9*x**2\n",
    "value=2\n",
    "\n",
    "def checkifcontinuous(func, x,symbol):\n",
    "    return (sp.limit(func,symbol,x).is_real)\n",
    "print(checkifcontinuous(f,value,x))"
   ]
  },
  {
   "cell_type": "code",
   "execution_count": 13,
   "id": "4eaf8be1",
   "metadata": {},
   "outputs": [
    {
     "name": "stdout",
     "output_type": "stream",
     "text": [
      "True\n"
     ]
    }
   ],
   "source": [
    "## 4. -x/2 + 9 at x=8\n",
    "\n",
    "x=sp.Symbol(\"x\")\n",
    "f= -x/2 + 9 \n",
    "value=8\n",
    "\n",
    "def checkifcontinuous(func, x,symbol):\n",
    "    return (sp.limit(func,symbol,x).is_real)\n",
    "print(checkifcontinuous(f,value,x))"
   ]
  },
  {
   "cell_type": "markdown",
   "id": "d75614eb",
   "metadata": {},
   "source": [
    "### 6. Find the derivatives of the following functions"
   ]
  },
  {
   "cell_type": "markdown",
   "id": "0a342874",
   "metadata": {},
   "source": [
    "1. $f(x) = 2x - 3$\n",
    "2. $f(x) = x^5(3-6x-9x^3)$\n",
    "3. $f(x) = sinxcosx $\n",
    "4. $f(x) = 2tanx - 7secx $\n",
    "5. $f(x) = (x^3 + x^2 + x)(x^2 + x) $"
   ]
  },
  {
   "cell_type": "code",
   "execution_count": 4,
   "id": "e96c8cbd",
   "metadata": {},
   "outputs": [
    {
     "data": {
      "text/latex": [
       "$\\displaystyle 2$"
      ],
      "text/plain": [
       "2"
      ]
     },
     "execution_count": 4,
     "metadata": {},
     "output_type": "execute_result"
    }
   ],
   "source": [
    "## 1. 2x-3\n",
    "from sympy import *\n",
    "x=Symbol('x')\n",
    "q= 2*x - 3\n",
    "\n",
    "i=Derivative(q,x)\n",
    "i.doit()"
   ]
  },
  {
   "cell_type": "code",
   "execution_count": 8,
   "id": "949e153d",
   "metadata": {},
   "outputs": [
    {
     "data": {
      "text/latex": [
       "$\\displaystyle x^{5} \\left(- 27 x^{2} - 6\\right) + 5 x^{4} \\left(- 9 x^{3} - 6 x + 3\\right)$"
      ],
      "text/plain": [
       "x**5*(-27*x**2 - 6) + 5*x**4*(-9*x**3 - 6*x + 3)"
      ]
     },
     "execution_count": 8,
     "metadata": {},
     "output_type": "execute_result"
    }
   ],
   "source": [
    "## 2. x^5(3-6x - 9x^3)\n",
    "\n",
    "from sympy import *\n",
    "x=Symbol('x')\n",
    "a= (x**5)*(3 - 6*x - 9*x**3) \n",
    "\n",
    "b=Derivative(a,x)\n",
    "b.doit()"
   ]
  },
  {
   "cell_type": "code",
   "execution_count": 9,
   "id": "4dbb3f87",
   "metadata": {},
   "outputs": [
    {
     "data": {
      "text/latex": [
       "$\\displaystyle - \\sin^{2}{\\left(x \\right)} + \\cos^{2}{\\left(x \\right)}$"
      ],
      "text/plain": [
       "-sin(x)**2 + cos(x)**2"
      ]
     },
     "execution_count": 9,
     "metadata": {},
     "output_type": "execute_result"
    }
   ],
   "source": [
    "## 3. sinx cosx\n",
    "\n",
    "c= sin(x)*cos(x) \n",
    "\n",
    "d=Derivative(c,x)\n",
    "d.doit()"
   ]
  },
  {
   "cell_type": "code",
   "execution_count": 13,
   "id": "1c7881ff",
   "metadata": {},
   "outputs": [
    {
     "data": {
      "text/latex": [
       "$\\displaystyle 2 \\tan^{2}{\\left(x \\right)} - 7 \\tan{\\left(x \\right)} \\sec{\\left(x \\right)} + 2$"
      ],
      "text/plain": [
       "2*tan(x)**2 - 7*tan(x)*sec(x) + 2"
      ]
     },
     "execution_count": 13,
     "metadata": {},
     "output_type": "execute_result"
    }
   ],
   "source": [
    "## 4. 2tanx - 7secx\n",
    "\n",
    "e= 2*tan(x) - 7*sec(x) \n",
    "\n",
    "f=Derivative(e,x)\n",
    "f.doit()"
   ]
  },
  {
   "cell_type": "code",
   "execution_count": 16,
   "id": "8cc7ee6b",
   "metadata": {},
   "outputs": [
    {
     "data": {
      "text/latex": [
       "$\\displaystyle \\left(2 x + 1\\right) \\left(x^{3} + x^{2} + x\\right) + \\left(x^{2} + x\\right) \\left(3 x^{2} + 2 x + 1\\right)$"
      ],
      "text/plain": [
       "(2*x + 1)*(x**3 + x**2 + x) + (x**2 + x)*(3*x**2 + 2*x + 1)"
      ]
     },
     "execution_count": 16,
     "metadata": {},
     "output_type": "execute_result"
    }
   ],
   "source": [
    "## 5. (x^3 + x^2 + x)(x^2 + x)\n",
    "\n",
    "g= (x**3 + x**2 + x) *(x**2 + x)\n",
    "\n",
    "h=Derivative(g,x)\n",
    "h.doit()"
   ]
  },
  {
   "cell_type": "markdown",
   "id": "bfe6f375",
   "metadata": {},
   "source": [
    "### 7. Define a complex number and perform the basic operations of addition, subtraction, multiplication,  and division"
   ]
  },
  {
   "cell_type": "markdown",
   "id": "7cade477",
   "metadata": {},
   "source": [
    "A complex number is the sum of a real number and an imaginary number. A complex number is of the form $a + ib$ and is usually represented by $z$. Here both $a$ and $b$ are real numbers. The value 'a' is called the real part which is denoted by Re(z), and 'b' is called the imaginary part Im(z).  Also, $ib$ is called an imaginary number."
   ]
  },
  {
   "cell_type": "code",
   "execution_count": 2,
   "id": "b3cbabbd",
   "metadata": {},
   "outputs": [
    {
     "name": "stdout",
     "output_type": "stream",
     "text": [
      "The real part of complex number is : 5.0\n",
      "The imaginary part of complex number is : 3.0\n"
     ]
    }
   ],
   "source": [
    "import cmath\n",
    "  \n",
    "# Initializing real numbers\n",
    "x = 5\n",
    "y = 3\n",
    "  \n",
    "# converting x and y into complex number\n",
    "z = complex(x,y);\n",
    "  \n",
    "# printing real and imaginary part of complex number\n",
    "print (\"The real part of complex number is : \",end=\"\")\n",
    "print (z.real)\n",
    "  \n",
    "print (\"The imaginary part of complex number is : \",end=\"\")\n",
    "print (z.imag)"
   ]
  },
  {
   "cell_type": "code",
   "execution_count": 3,
   "id": "32e3083e",
   "metadata": {},
   "outputs": [
    {
     "data": {
      "text/plain": [
       "(5+7j)"
      ]
     },
     "execution_count": 3,
     "metadata": {},
     "output_type": "execute_result"
    }
   ],
   "source": [
    "## Addition\n",
    "\n",
    "a,b=1,2\n",
    "c,d=4,5\n",
    "\n",
    "m=complex(a,b)\n",
    "n=complex(c,d)\n",
    "\n",
    "\n",
    "m+n"
   ]
  },
  {
   "cell_type": "code",
   "execution_count": 4,
   "id": "1bdad4df",
   "metadata": {},
   "outputs": [
    {
     "data": {
      "text/plain": [
       "(-3-3j)"
      ]
     },
     "execution_count": 4,
     "metadata": {},
     "output_type": "execute_result"
    }
   ],
   "source": [
    "## Subration\n",
    "\n",
    "m-n"
   ]
  },
  {
   "cell_type": "code",
   "execution_count": 5,
   "id": "70da2173",
   "metadata": {},
   "outputs": [
    {
     "data": {
      "text/plain": [
       "(-6+13j)"
      ]
     },
     "execution_count": 5,
     "metadata": {},
     "output_type": "execute_result"
    }
   ],
   "source": [
    "## Multiplication\n",
    "\n",
    "m*n"
   ]
  },
  {
   "cell_type": "code",
   "execution_count": 6,
   "id": "5d1d2e67",
   "metadata": {},
   "outputs": [
    {
     "data": {
      "text/plain": [
       "(0.34146341463414637+0.0731707317073171j)"
      ]
     },
     "execution_count": 6,
     "metadata": {},
     "output_type": "execute_result"
    }
   ],
   "source": [
    "## Division\n",
    "\n",
    "m/n"
   ]
  },
  {
   "cell_type": "markdown",
   "id": "cfab7aac",
   "metadata": {},
   "source": [
    "### 8. Find the real and imaginary parts of the complex number and find its modulus and argument"
   ]
  },
  {
   "cell_type": "code",
   "execution_count": 3,
   "id": "5bed0ab6",
   "metadata": {},
   "outputs": [
    {
     "name": "stdout",
     "output_type": "stream",
     "text": [
      "The real part of complex number is : 5.0\n",
      "The imaginary part of complex number is : 3.0\n"
     ]
    }
   ],
   "source": [
    "# printing real and imaginary part of complex number\n",
    "print (\"The real part of complex number is : \",end=\"\")\n",
    "print (z.real)\n",
    "  \n",
    "print (\"The imaginary part of complex number is : \",end=\"\")\n",
    "print (z.imag)"
   ]
  },
  {
   "cell_type": "code",
   "execution_count": 20,
   "id": "86d64a84",
   "metadata": {},
   "outputs": [
    {
     "name": "stdout",
     "output_type": "stream",
     "text": [
      "The modulus and argument of polar complex number is : (1.4142135623730951, 0.7853981633974483)\n"
     ]
    }
   ],
   "source": [
    "import cmath\n",
    "import math\n",
    "  \n",
    "# Initializing real numbers\n",
    "x = 1.0\n",
    "y = 1.0\n",
    "  \n",
    "# converting x and y into complex number\n",
    "z = complex(x,y);\n",
    "  \n",
    "# converting complex number into polar using polar()\n",
    "w = cmath.polar(z)\n",
    "  \n",
    "# printing modulus and argument of polar complex number\n",
    "print (\"The modulus and argument of polar complex number is : \",end=\"\")\n",
    "print (w)\n",
    "  "
   ]
  },
  {
   "cell_type": "markdown",
   "id": "8ab3e370",
   "metadata": {},
   "source": [
    "### Date: 16/01/23"
   ]
  },
  {
   "cell_type": "code",
   "execution_count": 4,
   "id": "7b50ed18",
   "metadata": {},
   "outputs": [],
   "source": [
    "import numpy as np\n",
    "import matplotlib.pyplot as plt"
   ]
  },
  {
   "cell_type": "markdown",
   "id": "c420c924",
   "metadata": {},
   "source": [
    "### Dataset"
   ]
  },
  {
   "cell_type": "code",
   "execution_count": 1,
   "id": "f42340ac",
   "metadata": {},
   "outputs": [],
   "source": [
    "import numpy as np\n",
    "import matplotlib.pyplot as plt"
   ]
  },
  {
   "cell_type": "code",
   "execution_count": 2,
   "id": "da08da63",
   "metadata": {},
   "outputs": [
    {
     "name": "stdout",
     "output_type": "stream",
     "text": [
      "    month_number  facecream  facewash  toothpaste  bathingsoap  shampoo  \\\n",
      "0              1       2500      1500        5200         9200     1200   \n",
      "1              2       2630      1200        5100         6100     2100   \n",
      "2              3       2140      1340        4550         9550     3550   \n",
      "3              4       3400      1130        5870         8870     1870   \n",
      "4              5       3600      1740        4560         7760     1560   \n",
      "5              6       2760      1555        4890         7490     1890   \n",
      "6              7       2980      1120        4780         8980     1780   \n",
      "7              8       3700      1400        5860         9960     2860   \n",
      "8              9       3540      1780        6100         8100     2100   \n",
      "9             10       1990      1890        8300        10300     2300   \n",
      "10            11       2340      2100        7300        13300     2400   \n",
      "11            12       2900      1760        7400        14400     1800   \n",
      "\n",
      "    moisturizer  total_units  total_profit  \n",
      "0          1500        21100        211000  \n",
      "1          1200        18330        183300  \n",
      "2          1340        22470        224700  \n",
      "3          1130        22270        222700  \n",
      "4          1740        20960        209600  \n",
      "5          1555        20140        201400  \n",
      "6          1120        29550        295500  \n",
      "7          1400        36140        361400  \n",
      "8          1780        23400        234000  \n",
      "9          1890        26670        266700  \n",
      "10         2100        41280        412800  \n",
      "11         1760        30020        300200  \n"
     ]
    }
   ],
   "source": [
    "import pandas as pd\n",
    "\n",
    "df = pd.read_csv('C:/Users/12138/Downloads/sales.csv')\n",
    "print(df)"
   ]
  },
  {
   "cell_type": "markdown",
   "id": "21747ff0",
   "metadata": {},
   "source": [
    "### 1. Line Plot"
   ]
  },
  {
   "cell_type": "code",
   "execution_count": 3,
   "id": "e1fadebc",
   "metadata": {},
   "outputs": [
    {
     "data": {
      "image/png": "[encoded data removed]",
      "text/plain": [
       "<Figure size 432x288 with 1 Axes>"
      ]
     },
     "metadata": {
      "needs_background": "light"
     },
     "output_type": "display_data"
    }
   ],
   "source": [
    "plt.rcParams[\"figure.figsize\"] = [6.00, 4]\n",
    "plt.rcParams[\"figure.autolayout\"] = True\n",
    "df.plot(linewidth=3, )\n",
    "None"
   ]
  },
  {
   "cell_type": "code",
   "execution_count": 4,
   "id": "a687ab3e",
   "metadata": {},
   "outputs": [
    {
     "data": {
      "image/png": "[encoded data removed]",
      "text/plain": [
       "<Figure size 576x396 with 1 Axes>"
      ]
     },
     "metadata": {
      "needs_background": "light"
     },
     "output_type": "display_data"
    }
   ],
   "source": [
    "plt.rcParams[\"figure.figsize\"] = [8.00, 5.50]\n",
    "plt.rcParams[\"figure.autolayout\"] = True\n",
    "\n",
    "df.drop(['month_number','total_units','total_profit'], axis=1).plot(marker='o')\n",
    "None"
   ]
  },
  {
   "cell_type": "markdown",
   "id": "ae1fa9f4",
   "metadata": {},
   "source": [
    "### 2. Stack Plot"
   ]
  },
  {
   "cell_type": "code",
   "execution_count": 5,
   "id": "30f5cbf7",
   "metadata": {},
   "outputs": [
    {
     "data": {
      "image/png": "[encoded data removed]",
      "text/plain": [
       "<Figure size 576x396 with 1 Axes>"
      ]
     },
     "metadata": {
      "needs_background": "light"
     },
     "output_type": "display_data"
    }
   ],
   "source": [
    "df.drop(['month_number','total_units','total_profit'], axis=1).plot.area()\n",
    "None"
   ]
  },
  {
   "cell_type": "markdown",
   "id": "d18face1",
   "metadata": {},
   "source": [
    "### 3. Finding the mean, median and mode of the data"
   ]
  },
  {
   "cell_type": "markdown",
   "id": "b34932c3",
   "metadata": {},
   "source": [
    "### 1. Mean"
   ]
  },
  {
   "cell_type": "code",
   "execution_count": 7,
   "id": "2c22d465",
   "metadata": {},
   "outputs": [
    {
     "data": {
      "text/plain": [
       "5825.833333333333"
      ]
     },
     "execution_count": 7,
     "metadata": {},
     "output_type": "execute_result"
    }
   ],
   "source": [
    "def mean(x):\n",
    "    summ=sum(x)\n",
    "    len1=len(x)\n",
    "    m=summ/len1\n",
    "    return m\n",
    "\n",
    "mean(df.toothpaste)"
   ]
  },
  {
   "cell_type": "code",
   "execution_count": 8,
   "id": "b5a7494f",
   "metadata": {},
   "outputs": [
    {
     "data": {
      "text/plain": [
       "2873.3333333333335"
      ]
     },
     "execution_count": 8,
     "metadata": {},
     "output_type": "execute_result"
    }
   ],
   "source": [
    "mean(df.facecream)"
   ]
  },
  {
   "cell_type": "code",
   "execution_count": 9,
   "id": "5927b3e4",
   "metadata": {},
   "outputs": [
    {
     "data": {
      "text/plain": [
       "month_number         6.500000\n",
       "facecream         2873.333333\n",
       "facewash          1542.916667\n",
       "toothpaste        5825.833333\n",
       "bathingsoap       9500.833333\n",
       "shampoo           2117.500000\n",
       "moisturizer       1542.916667\n",
       "total_units      26027.500000\n",
       "total_profit    260275.000000\n",
       "dtype: float64"
      ]
     },
     "execution_count": 9,
     "metadata": {},
     "output_type": "execute_result"
    }
   ],
   "source": [
    "np.mean(df)"
   ]
  },
  {
   "cell_type": "markdown",
   "id": "c49710fc",
   "metadata": {},
   "source": [
    "### 2. Median"
   ]
  },
  {
   "cell_type": "code",
   "execution_count": 10,
   "id": "93bfef70",
   "metadata": {},
   "outputs": [],
   "source": [
    "def median(num):\n",
    "    num.sort()\n",
    "    n=len(num)\n",
    "    if n % 2 == 0:\n",
    "        median1 = num[n//2]\n",
    "        median2 = num[n//2 - 1]\n",
    "        median = (median1 + median2)/2\n",
    "    else:\n",
    "        median = num[n//2]\n",
    "    print(\"Median is: \" + str(median))\n",
    "    "
   ]
  },
  {
   "cell_type": "code",
   "execution_count": 11,
   "id": "5cbbce2b",
   "metadata": {},
   "outputs": [
    {
     "data": {
      "text/plain": [
       "month_number         6.5\n",
       "facecream         2830.0\n",
       "facewash          1527.5\n",
       "toothpaste        5530.0\n",
       "bathingsoap       9090.0\n",
       "shampoo           1995.0\n",
       "moisturizer       1527.5\n",
       "total_units      22935.0\n",
       "total_profit    229350.0\n",
       "dtype: float64"
      ]
     },
     "execution_count": 11,
     "metadata": {},
     "output_type": "execute_result"
    }
   ],
   "source": [
    "df.median()"
   ]
  },
  {
   "cell_type": "markdown",
   "id": "99d499c0",
   "metadata": {},
   "source": [
    "### 3.  Mode"
   ]
  },
  {
   "cell_type": "code",
   "execution_count": 12,
   "id": "038e1727",
   "metadata": {},
   "outputs": [
    {
     "data": {
      "text/plain": [
       "array([[     1,   1990,   1120,   4550,   6100,   2100,   1120,  18330,\n",
       "        183300]], dtype=int64)"
      ]
     },
     "execution_count": 12,
     "metadata": {},
     "output_type": "execute_result"
    }
   ],
   "source": [
    "from scipy import stats\n",
    "\n",
    "a,b=stats.mode(df)\n",
    "a"
   ]
  },
  {
   "cell_type": "markdown",
   "id": "b11e3174",
   "metadata": {},
   "source": [
    "### 4. Range"
   ]
  },
  {
   "cell_type": "code",
   "execution_count": 13,
   "id": "a4ff7a79",
   "metadata": {},
   "outputs": [
    {
     "name": "stdout",
     "output_type": "stream",
     "text": [
      "1710\n"
     ]
    }
   ],
   "source": [
    "def range(numb):\n",
    "    minimum = min(numb)\n",
    "    maximum = max(numb)\n",
    "    range = maximum - minimum\n",
    "    return range\n",
    "\n",
    "print(range(df.facecream))"
   ]
  },
  {
   "cell_type": "code",
   "execution_count": 14,
   "id": "d1d4a625",
   "metadata": {
    "scrolled": true
   },
   "outputs": [
    {
     "data": {
      "text/plain": [
       "3750"
      ]
     },
     "execution_count": 14,
     "metadata": {},
     "output_type": "execute_result"
    }
   ],
   "source": [
    "range(df.toothpaste)"
   ]
  },
  {
   "cell_type": "markdown",
   "id": "32dfb02a",
   "metadata": {},
   "source": [
    "#### Conclusion:\n",
    "This Lab practical offers a thorough examination of several Python ideas and libraries, encompassing the application of pandas for data analysis, plotting through Matplotlib, and carrying out rudimentary statistical analysis. Through this practical, we have obtained a more profound comprehension of these subjects."
   ]
  },
  {
   "cell_type": "markdown",
   "id": "391f2644",
   "metadata": {},
   "source": [
    "#  Lab 2\n",
    "#  Cmath functions for complex number"
   ]
  },
  {
   "cell_type": "markdown",
   "id": "88165bde",
   "metadata": {},
   "source": [
    "### Date: 09/01/23 to 14/01/23"
   ]
  },
  {
   "cell_type": "markdown",
   "id": "c31cd7e8",
   "metadata": {},
   "source": [
    "### Aim:\n",
    "The objective of this lab practical is to comprehend the idea of complex numbers, learn how to execute operations on them, obtain various forms of complex numbers, such as rectangular form, polar form, and exponential form, calculate conjugates, modulus, and argument of complex numbers, plot them on the complex plane, and test the Commutative law, Associative law, and Distributive law."
   ]
  },
  {
   "cell_type": "code",
   "execution_count": 15,
   "id": "c23c534a",
   "metadata": {},
   "outputs": [
    {
     "name": "stdout",
     "output_type": "stream",
     "text": [
      "The real part of complex number is : 5.0\n",
      "The imaginary part of complex number is : 3.0\n"
     ]
    }
   ],
   "source": [
    "## 1. Real and Imaginary Part of a Complex number\n",
    "\n",
    "import cmath\n",
    "  \n",
    "# Initializing real numbers\n",
    "x = 5\n",
    "y = 3\n",
    "  \n",
    "# converting x and y into complex number\n",
    "z = complex(x,y);\n",
    "  \n",
    "# printing real and imaginary part of complex number\n",
    "print (\"The real part of complex number is : \",end=\"\")\n",
    "print (z.real)\n",
    "  \n",
    "print (\"The imaginary part of complex number is : \",end=\"\")\n",
    "print (z.imag)"
   ]
  },
  {
   "cell_type": "code",
   "execution_count": 16,
   "id": "85515653",
   "metadata": {},
   "outputs": [
    {
     "data": {
      "text/plain": [
       "(5-3j)"
      ]
     },
     "execution_count": 16,
     "metadata": {},
     "output_type": "execute_result"
    }
   ],
   "source": [
    "## 2. Conjugate\n",
    "\n",
    "import numpy as np\n",
    "\n",
    "np.conj(z)\n"
   ]
  },
  {
   "cell_type": "code",
   "execution_count": 22,
   "id": "5d87dd05",
   "metadata": {},
   "outputs": [
    {
     "data": {
      "text/plain": [
       "(5.830951894845301, 0.5404195002705842)"
      ]
     },
     "execution_count": 22,
     "metadata": {},
     "output_type": "execute_result"
    }
   ],
   "source": [
    "## 3. Converting rectangular coordinates to polar coordinates\n",
    "\n",
    "cmath.polar(z)\n"
   ]
  },
  {
   "cell_type": "code",
   "execution_count": 25,
   "id": "a955aef4",
   "metadata": {},
   "outputs": [
    {
     "data": {
      "text/plain": [
       "0.5404195002705842"
      ]
     },
     "execution_count": 25,
     "metadata": {},
     "output_type": "execute_result"
    }
   ],
   "source": [
    "## 4. Argument or Theta value\n",
    "\n",
    "theta=cmath.phase(z)\n",
    "theta"
   ]
  },
  {
   "cell_type": "code",
   "execution_count": 26,
   "id": "b905a15c",
   "metadata": {},
   "outputs": [
    {
     "data": {
      "text/plain": [
       "5.830951894845301"
      ]
     },
     "execution_count": 26,
     "metadata": {},
     "output_type": "execute_result"
    }
   ],
   "source": [
    "## 5. Modulus\n",
    "\n",
    "mod=abs(z)\n",
    "mod"
   ]
  },
  {
   "cell_type": "code",
   "execution_count": 30,
   "id": "08940ec8",
   "metadata": {},
   "outputs": [
    {
     "data": {
      "text/plain": [
       "(5+3.0000000000000004j)"
      ]
     },
     "execution_count": 30,
     "metadata": {},
     "output_type": "execute_result"
    }
   ],
   "source": [
    "## 6. Converting polar coordinates into rectangular coordinates\n",
    "\n",
    "p=cmath.rect(mod, theta)\n",
    "p"
   ]
  },
  {
   "cell_type": "code",
   "execution_count": 14,
   "id": "5eea17bc",
   "metadata": {},
   "outputs": [
    {
     "name": "stdout",
     "output_type": "stream",
     "text": [
      "Enter the value of real part: 3\n",
      "Enter thr value of the imaginary part: 7\n",
      "Enter the value of real part: 7\n",
      "Enter thr value of the imaginary part: 7\n",
      "Enter the value of real part: 7\n",
      "Enter thr value of the imaginary part: 7\n",
      "Enter the value of real part: 7\n",
      "Enter thr value of the imaginary part: 7\n",
      "Enter the value of real part: 7\n",
      "Enter thr value of the imaginary part: 7\n",
      "[(3+7j), (7+7j), (7+7j), (7+7j), (7+7j)]\n"
     ]
    }
   ],
   "source": [
    "## Plotting of complex numbers\n",
    "\n",
    "import matplotlib.pyplot as plt\n",
    "\n",
    "list=[]\n",
    "i=0\n",
    "\n",
    "while i < 5:\n",
    "    i=i+1\n",
    "    a=int(input(\"Enter the value of real part: \"))\n",
    "    b=int(input(\"Enter thr value of the imaginary part: \"))\n",
    "    ab=complex(a,b)\n",
    "    list.append(ab)\n",
    "\n",
    "    \n",
    "print(list)    "
   ]
  },
  {
   "cell_type": "code",
   "execution_count": 15,
   "id": "7f70ab5b",
   "metadata": {},
   "outputs": [
    {
     "data": {
      "text/plain": [
       "array([3.+7.j, 7.+7.j, 7.+7.j, 7.+7.j, 7.+7.j])"
      ]
     },
     "execution_count": 15,
     "metadata": {},
     "output_type": "execute_result"
    }
   ],
   "source": [
    "l=np.array(list)\n",
    "l"
   ]
  },
  {
   "cell_type": "code",
   "execution_count": 16,
   "id": "6bcbb638",
   "metadata": {},
   "outputs": [
    {
     "data": {
      "image/png": "[encoded data removed]",
      "text/plain": [
       "<Figure size 432x288 with 1 Axes>"
      ]
     },
     "metadata": {
      "needs_background": "light"
     },
     "output_type": "display_data"
    }
   ],
   "source": [
    "\n",
    "a1=[n.real for n in list]\n",
    "\n",
    "b1=[n.imag for n in list]\n",
    "\n",
    "plt.scatter(a1,b1,color=\"Red\")\n",
    "\n",
    "for j,n in enumerate(list):\n",
    "    plt.text(a1[j],b1[j],str(n))\n",
    "\n",
    "plt.xlabel(\"Real\")\n",
    "plt.ylabel(\"Imaginary\")\n",
    "plt.title(\"Plotting of Complex Numbers\")\n",
    "plt.show()"
   ]
  },
  {
   "cell_type": "markdown",
   "id": "fa7f566a",
   "metadata": {},
   "source": [
    "### Plotting Complex number on a complex plane"
   ]
  },
  {
   "cell_type": "code",
   "execution_count": 17,
   "id": "bbbf92c3",
   "metadata": {},
   "outputs": [
    {
     "data": {
      "image/png": "[encoded data removed]",
      "text/plain": [
       "<Figure size 432x360 with 1 Axes>"
      ]
     },
     "metadata": {
      "needs_background": "light"
     },
     "output_type": "display_data"
    }
   ],
   "source": [
    "## 1. complex(4,3)\n",
    "\n",
    "from matplotlib.pylab import *\n",
    "figure(figsize=(6,5))\n",
    "b=complex(7,3)\n",
    "\n",
    "polar(angle(b),abs(b), marker='*')\n",
    "show()"
   ]
  },
  {
   "cell_type": "code",
   "execution_count": 5,
   "id": "98fd0cd8",
   "metadata": {},
   "outputs": [
    {
     "data": {
      "image/png": "[encoded data removed]",
      "text/plain": [
       "<Figure size 432x360 with 1 Axes>"
      ]
     },
     "metadata": {
      "needs_background": "light"
     },
     "output_type": "display_data"
    }
   ],
   "source": [
    "## 2. complex(8,3)\n",
    "\n",
    "from matplotlib.pylab import *\n",
    "figure(figsize=(6,5))\n",
    "c=complex(8,3)\n",
    "\n",
    "polar(angle(c),abs(c), marker='*', color=\"red\")\n",
    "show()"
   ]
  },
  {
   "cell_type": "code",
   "execution_count": 18,
   "id": "586b8193",
   "metadata": {},
   "outputs": [
    {
     "data": {
      "image/png": "[encoded data removed]",
      "text/plain": [
       "<Figure size 432x360 with 1 Axes>"
      ]
     },
     "metadata": {
      "needs_background": "light"
     },
     "output_type": "display_data"
    }
   ],
   "source": [
    "## 3. complex(9,5)\n",
    "\n",
    "from matplotlib.pylab import *\n",
    "figure(figsize=(6,5))\n",
    "c=complex(9,10)\n",
    "\n",
    "polar(angle(c),abs(c), marker='*', color=\"red\")\n",
    "show()"
   ]
  },
  {
   "cell_type": "markdown",
   "id": "370ef347",
   "metadata": {},
   "source": [
    "### Prove the following:\n",
    "\n",
    "For complex nos, z1, z2, z3. Prove the following:\n",
    "\n",
    "a. Commutative, Associative Laws for multiplication\n",
    "\n",
    "b. |z1+z2| $\\le$ |z1| + |z2|\n",
    "\n",
    "c. Distributive laws of addition over multiplication\n",
    "\n",
    "d. z1 +- z1 bar belongs to R\n",
    "\n",
    "e. z1.z2 belongs to R"
   ]
  },
  {
   "cell_type": "code",
   "execution_count": 19,
   "id": "85eca710",
   "metadata": {},
   "outputs": [],
   "source": [
    "# 7. For complex nos, z1, z2, z3. Prove the following:"
   ]
  },
  {
   "cell_type": "code",
   "execution_count": 23,
   "id": "071e3056",
   "metadata": {},
   "outputs": [],
   "source": [
    "# a. Commutative, Associative Laws for multiplication Cube roots of Unity in Polar Coordinates\n",
    "\n",
    "import cmath\n",
    "  \n",
    "x1= 5\n",
    "y1 = 3\n",
    "  \n",
    "z1 = complex(x1,y1)\n",
    "\n",
    "x2=4\n",
    "y2=2\n",
    "\n",
    "z2=complex(x2,y2)\n",
    "\n",
    "x3=1\n",
    "y3=2\n",
    "\n",
    "z3=complex(x3,y3)"
   ]
  },
  {
   "cell_type": "markdown",
   "id": "da96f9dc",
   "metadata": {},
   "source": [
    "#### Commutative Law"
   ]
  },
  {
   "cell_type": "code",
   "execution_count": 29,
   "id": "4bb95fb5",
   "metadata": {},
   "outputs": [
    {
     "name": "stdout",
     "output_type": "stream",
     "text": [
      "Commutative Law is satisfied\n"
     ]
    }
   ],
   "source": [
    "\n",
    "if z1*z2== z2*z1:\n",
    "    print(\"Commutative Law is satisfied\")\n",
    "else:\n",
    "    print(\"Commutative law is not satisfied\")\n"
   ]
  },
  {
   "cell_type": "markdown",
   "id": "c68a71df",
   "metadata": {},
   "source": [
    "#### Associative Law"
   ]
  },
  {
   "cell_type": "code",
   "execution_count": 30,
   "id": "f9bbb9f3",
   "metadata": {},
   "outputs": [
    {
     "name": "stdout",
     "output_type": "stream",
     "text": [
      "Associative Law is satisfied\n"
     ]
    }
   ],
   "source": [
    "if (z1*z2)*z3==z1*(z2*z3):\n",
    "    print(\"Associative Law is satisfied\")\n",
    "else:\n",
    "    print(\"Associative law is not satisfied\")"
   ]
  },
  {
   "cell_type": "code",
   "execution_count": 31,
   "id": "b1f65baa",
   "metadata": {},
   "outputs": [
    {
     "name": "stdout",
     "output_type": "stream",
     "text": [
      "Distributive property is satisfied\n"
     ]
    }
   ],
   "source": [
    "## c. Distributive laws of addition over multiplication\n",
    "\n",
    "if z1*(z2+z3)== z1*z2+z1*z3:\n",
    "    print(\"Distributive property is satisfied\")\n",
    "else:\n",
    "    print(\"Not satisfied\")\n"
   ]
  },
  {
   "cell_type": "code",
   "execution_count": 13,
   "id": "dc582834",
   "metadata": {},
   "outputs": [
    {
     "data": {
      "text/plain": [
       "(6+0j)"
      ]
     },
     "execution_count": 13,
     "metadata": {},
     "output_type": "execute_result"
    }
   ],
   "source": [
    "## d. z1 +- z1 bar belongs to R\n",
    "\n",
    "a=complex(3,6)\n",
    "a_c=a.conjugate()\n",
    "a+a_c\n"
   ]
  },
  {
   "cell_type": "code",
   "execution_count": 16,
   "id": "74743d8d",
   "metadata": {
    "scrolled": true
   },
   "outputs": [
    {
     "data": {
      "text/plain": [
       "(45+0j)"
      ]
     },
     "execution_count": 16,
     "metadata": {},
     "output_type": "execute_result"
    }
   ],
   "source": [
    "## e. \n",
    "\n",
    "a*a_c"
   ]
  },
  {
   "cell_type": "markdown",
   "id": "594aef9b",
   "metadata": {},
   "source": [
    "### Conclusion:\n",
    "The lab practical enhanced the understanding of complex numbers by teaching how to perform basic operations, express them in different forms, and plot them on the complex plane. The application of laws like Commutative, Associative, and Distributive was also shown to hold true for complex numbers. "
   ]
  },
  {
   "cell_type": "markdown",
   "id": "689dc7fe",
   "metadata": {},
   "source": [
    "# LAB 3: \n",
    "# Limit of a complex sequence\n",
    "\n",
    "# Date: 16/01/23 to 28/01/23\n"
   ]
  },
  {
   "cell_type": "markdown",
   "id": "f942a477",
   "metadata": {},
   "source": [
    "### Aim:\n",
    "The concept of limits of complex fuctions, plotting the same and customizing them is the main objective of the lab."
   ]
  },
  {
   "cell_type": "code",
   "execution_count": 1,
   "id": "9776ebb6",
   "metadata": {},
   "outputs": [],
   "source": [
    "from sympy import *\n",
    "from numpy import *"
   ]
  },
  {
   "cell_type": "code",
   "execution_count": 2,
   "id": "f4cd58c4",
   "metadata": {},
   "outputs": [
    {
     "name": "stdout",
     "output_type": "stream",
     "text": [
      "enter real part of function in terms of z= z\n",
      "enter imaginary part of function in terms of z= 1/z\n",
      "Limit of  z + 1.0*I/z is (inf+0j)\n"
     ]
    }
   ],
   "source": [
    "z = Symbol('z')\n",
    "real_z=eval(input('enter real part of function in terms of z= '))\n",
    "img_z=eval(input('enter imaginary part of function in terms of z= '))\n",
    "\n",
    "limit_real_z=limit(real_z,z,inf)\n",
    "limit_img_z=limit(img_z,z,inf)\n",
    "\n",
    "limit_z=complex(limit_real_z,limit_img_z)\n",
    "print('Limit of ',real_z + 1j*img_z,'is',limit_z)"
   ]
  },
  {
   "cell_type": "code",
   "execution_count": 3,
   "id": "c6655e47",
   "metadata": {},
   "outputs": [
    {
     "name": "stdout",
     "output_type": "stream",
     "text": [
      "1j\n",
      "Enter the lower limit of range: 5\n",
      "Enter the lower limit of range: 10\n"
     ]
    },
    {
     "data": {
      "image/png": "[encoded data removed]",
      "text/plain": [
       "<Figure size 432x360 with 1 Axes>"
      ]
     },
     "metadata": {
      "needs_background": "light"
     },
     "output_type": "display_data"
    }
   ],
   "source": [
    "import matplotlib.pyplot as plt\n",
    "z=Symbol('z')\n",
    "a=complex(limit((1)/z,z,inf),limit((z-1)/z,z,inf))\n",
    "print(a)\n",
    "x=[]\n",
    "y=[]\n",
    "l=int(input(\"Enter the lower limit of range: \"))\n",
    "u=int(input(\"Enter the lower limit of range: \"))\n",
    "b=l\n",
    "plt.figure(figsize=(6,5))\n",
    "for i in range(0,u-1):\n",
    "    re = 1/b\n",
    "    im = (b-1)/b\n",
    "    x.append(re)\n",
    "    y.append(im)\n",
    "    b+=1\n",
    "plt.scatter(x,y,color='r')\n",
    "plt.scatter(a.real,a.imag,color='g')\n",
    "plt.show()"
   ]
  },
  {
   "cell_type": "markdown",
   "id": "c6417db4",
   "metadata": {},
   "source": [
    "### Find the limit of the following the complex sequences"
   ]
  },
  {
   "cell_type": "code",
   "execution_count": 2,
   "id": "cde30f18",
   "metadata": {},
   "outputs": [
    {
     "name": "stdout",
     "output_type": "stream",
     "text": [
      "Enter real part of function in terms of n: 0\n",
      "Enter imaginary part of function in terms of n: n**2/(n**1 + 1)\n",
      "Limit of  1.0*I*n**2/(n + 1) is  infj\n"
     ]
    }
   ],
   "source": [
    "## 1. i(n^2/(n^1+1)) \n",
    "\n",
    "n=Symbol('n')\n",
    "real_z=eval(input(\"Enter real part of function in terms of n: \"))\n",
    "imag_z=eval(input(\"Enter imaginary part of function in terms of n: \"))\n",
    "\n",
    "limit_real_z=limit(real_z,n,inf)\n",
    "limit_imag_z=limit(imag_z,n,inf)\n",
    "\n",
    "limit_z=complex(limit_real_z,limit_imag_z)\n",
    "\n",
    "print('Limit of ',real_z + 1j*imag_z,'is ',limit_z)"
   ]
  },
  {
   "cell_type": "code",
   "execution_count": 4,
   "id": "bfe4afa6",
   "metadata": {},
   "outputs": [
    {
     "name": "stdout",
     "output_type": "stream",
     "text": [
      "Enter real part of function in terms of n: (1+(4/n))**n\n",
      "Enter imaginary part of function in terms of n: (7*n/(n+4))\n",
      "Limit of  7.0*I*n/(n + 4) + (1 + 4/n)**n is  (54.598150033144236+7j)\n"
     ]
    }
   ],
   "source": [
    "## 2. (1+(4/n))^n + i(7n/(n+4))\n",
    "\n",
    "n=Symbol('n')\n",
    "real_z=eval(input(\"Enter real part of function in terms of n: \"))\n",
    "imag_z=eval(input(\"Enter imaginary part of function in terms of n: \"))\n",
    "\n",
    "limit_real_z=limit(real_z,n,inf)\n",
    "limit_imag_z=limit(imag_z,n,inf)\n",
    "\n",
    "limit_z=complex(limit_real_z,limit_imag_z)\n",
    "\n",
    "print('Limit of ',real_z + 1j*imag_z,'is ',limit_z)"
   ]
  },
  {
   "cell_type": "code",
   "execution_count": 5,
   "id": "dac0815c",
   "metadata": {},
   "outputs": [
    {
     "name": "stdout",
     "output_type": "stream",
     "text": [
      "Enter real part of function in terms of n: (n+1)**(1/2)\n",
      "Enter imaginary part of function in terms of n: -((n)**(1/2) + 3)\n",
      "Limit of  1.0*I*(-n**0.5 - 3) + (n + 1)**0.5 is  (inf-infj)\n"
     ]
    }
   ],
   "source": [
    "## 3. sqrt(n+1) - i(sqrt(n) + 3)\n",
    "\n",
    "n=Symbol('n')\n",
    "real_z=eval(input(\"Enter real part of function in terms of n: \"))\n",
    "imag_z=eval(input(\"Enter imaginary part of function in terms of n: \"))\n",
    "\n",
    "limit_real_z=limit(real_z,n,inf)\n",
    "limit_imag_z=limit(imag_z,n,inf)\n",
    "\n",
    "limit_z=complex(limit_real_z,limit_imag_z)\n",
    "\n",
    "print('Limit of ',real_z + 1j*imag_z,'is ',limit_z)"
   ]
  },
  {
   "cell_type": "code",
   "execution_count": 2,
   "id": "08a61152",
   "metadata": {},
   "outputs": [
    {
     "name": "stdout",
     "output_type": "stream",
     "text": [
      "Enter real part of function in terms of n: 1/2**n + n/2\n",
      "Enter imaginary part of function in terms of n: -n/2\n",
      "Limit of  n/2 - 0.5*I*n + 2**(-n) is  (inf-infj)\n"
     ]
    }
   ],
   "source": [
    "## 4. 1/2^n + n((1-i)/2)\n",
    "\n",
    "n=Symbol('n')\n",
    "real_z=eval(input(\"Enter real part of function in terms of n: \"))\n",
    "imag_z=eval(input(\"Enter imaginary part of function in terms of n: \"))\n",
    "\n",
    "limit_real_z=limit(real_z,n,inf)\n",
    "limit_imag_z=limit(imag_z,n,inf)\n",
    "\n",
    "limit_z=complex(limit_real_z,limit_imag_z)\n",
    "\n",
    "print('Limit of ',real_z + 1j*imag_z,'is ',limit_z)"
   ]
  },
  {
   "cell_type": "code",
   "execution_count": 3,
   "id": "1f064ae5",
   "metadata": {},
   "outputs": [
    {
     "name": "stdout",
     "output_type": "stream",
     "text": [
      "Enter real part of function in terms of n: -(7*n/5)\n",
      "Enter imaginary part of function in terms of n: (24*n/5)\n",
      "Limit of  -7*n/5 + 4.8*I*n is  (-inf+infj)\n"
     ]
    }
   ],
   "source": [
    "## 5. n((3+4i)^2 / 5)\n",
    "\n",
    "n=Symbol('n')\n",
    "real_z=eval(input(\"Enter real part of function in terms of n: \"))\n",
    "imag_z=eval(input(\"Enter imaginary part of function in terms of n: \"))\n",
    "\n",
    "limit_real_z=limit(real_z,n,inf)\n",
    "limit_imag_z=limit(imag_z,n,inf)\n",
    "\n",
    "limit_z=complex(limit_real_z,limit_imag_z)\n",
    "\n",
    "print('Limit of ',real_z + 1j*imag_z,'is ',limit_z)"
   ]
  },
  {
   "cell_type": "code",
   "execution_count": 4,
   "id": "4aef7c84",
   "metadata": {},
   "outputs": [
    {
     "name": "stdout",
     "output_type": "stream",
     "text": [
      "Enter real part of function in terms of n: (3/2 + 5/n)**(n+1)\n",
      "Enter imaginary part of function in terms of n: ((5+n)/n)\n",
      "Limit of  (1.5 + 5/n)**(n + 1) + 1.0*I*(n + 5)/n is  (inf+1j)\n"
     ]
    }
   ],
   "source": [
    "## 6. (3/2 + 5/n)^(n+1) + i((5+n)/n)\n",
    "\n",
    "n=Symbol('n')\n",
    "real_z=eval(input(\"Enter real part of function in terms of n: \"))\n",
    "imag_z=eval(input(\"Enter imaginary part of function in terms of n: \"))\n",
    "\n",
    "limit_real_z=limit(real_z,n,inf)\n",
    "limit_imag_z=limit(imag_z,n,inf)\n",
    "\n",
    "limit_z=complex(limit_real_z,limit_imag_z)\n",
    "\n",
    "print('Limit of ',real_z + 1j*imag_z,'is ',limit_z)"
   ]
  },
  {
   "cell_type": "markdown",
   "id": "79996d73",
   "metadata": {},
   "source": [
    "7. Plot the sequences as 2D plot with the following customizations:\n",
    "\n",
    "a. Limit has a unique color and marker of higher size than that of sequence.\n",
    "\n",
    "b. Label the limit such that \"lim f(z) = value of the limit computed\"\n",
    "\n",
    "c. Appropriate labels for axes and plot title\n",
    "\n",
    "If the sequence does not have a limit, state the reason."
   ]
  },
  {
   "cell_type": "code",
   "execution_count": 5,
   "id": "28710e9f",
   "metadata": {},
   "outputs": [
    {
     "name": "stdout",
     "output_type": "stream",
     "text": [
      "1j\n",
      "Enter the lower limit of range: 5\n",
      "Enter the lower limit of range: 15\n"
     ]
    },
    {
     "data": {
      "image/png": "[encoded data removed]",
      "text/plain": [
       "<Figure size 432x360 with 1 Axes>"
      ]
     },
     "metadata": {
      "needs_background": "light"
     },
     "output_type": "display_data"
    }
   ],
   "source": [
    "import matplotlib.pyplot as plt\n",
    "\n",
    "n=Symbol('n')\n",
    "a=complex(limit(0,n,inf),limit(n**2/(n**2+1),n,inf))\n",
    "\n",
    "print(a)\n",
    "\n",
    "x=[]\n",
    "y=[]\n",
    "\n",
    "l=int(input(\"Enter the lower limit of range: \"))\n",
    "u=int(input(\"Enter the lower limit of range: \"))\n",
    "b=l\n",
    "plt.figure(figsize=(6,5))\n",
    "for i in range(0,u-1):\n",
    "    re = 0\n",
    "    im = b**2/(b**2+1)\n",
    "    x.append(re)\n",
    "    y.append(im)\n",
    "    b+=1\n",
    "plt.scatter(x,y,color='r')\n",
    "plt.scatter(a.real,a.imag,color='g')\n",
    "plt.show()"
   ]
  },
  {
   "cell_type": "markdown",
   "id": "cb8bacec",
   "metadata": {},
   "source": [
    "### Conclusion:\n",
    "In summary, this lab practical improved our understanding of complex function and sequence limits. We were taught to use different methods, including L'Hopital's rule, the squeeze theorem, and algebraic manipulation, to determine the limits. Additionally, we learned to use matplotlib.pyplot library to create visualizations of the limits, which aided in comprehending the functions' behavior near the limits."
   ]
  },
  {
   "cell_type": "markdown",
   "id": "77e6b3aa",
   "metadata": {},
   "source": [
    "# LAB 4: \n",
    "# Analytic function and Cauchy-Reimann equations\n"
   ]
  },
  {
   "cell_type": "markdown",
   "id": "fc10ebd2",
   "metadata": {},
   "source": [
    "# Date: 30/01/23 to 04/02/23"
   ]
  },
  {
   "cell_type": "markdown",
   "id": "1d380215",
   "metadata": {},
   "source": [
    "### Aim:\n",
    "The purpose of this exercise is to comprehend the concept of the Cauchy-Riemann equations and develop skills in verifying if functions meet the equations using loops. Additionally, we aimed to practice solving several problems associated with the Cauchy-Riemann equations."
   ]
  },
  {
   "cell_type": "code",
   "execution_count": 1,
   "id": "0c6029ef",
   "metadata": {},
   "outputs": [
    {
     "name": "stdout",
     "output_type": "stream",
     "text": [
      "Enter the Real part of the complex number: 3*x + 2*y\n",
      "Enter the Imaginary part of the Complex number: x**2 - 4*y\n"
     ]
    }
   ],
   "source": [
    "from sympy import *\n",
    "from numpy import *\n",
    "\n",
    "x,y,u,v=symbols('x, y, u, v')\n",
    "\n",
    "u=eval(input(\"Enter the Real part of the complex number: \"))\n",
    "v=eval(input(\"Enter the Imaginary part of the Complex number: \"))"
   ]
  },
  {
   "cell_type": "code",
   "execution_count": 2,
   "id": "347573a4",
   "metadata": {},
   "outputs": [
    {
     "name": "stdout",
     "output_type": "stream",
     "text": [
      "Does not satisfy Cauchy-Reyman\n"
     ]
    }
   ],
   "source": [
    "a=u.diff(x)\n",
    "b=v.diff(x)\n",
    "c=u.diff(y)\n",
    "d=v.diff(y)\n",
    "\n",
    "if (a==d and b==-c):\n",
    "    print(\"Satisfies Cauchy Reyman\")\n",
    "else:\n",
    "    print(\"Does not satisfy Cauchy-Reyman\")\n"
   ]
  },
  {
   "cell_type": "markdown",
   "id": "82ca1405",
   "metadata": {},
   "source": [
    "1. f(z) = x^2 + y^2 - 2xyi\n",
    "\n",
    "2. f(z) = 2xi + 2xy\n",
    "\n",
    "3. f(z) = 2x + ixy^2\n",
    "\n",
    "4. f(z) = xy + iy\n",
    "\n",
    "5. f(z) = (x+iy)/(x^2 + y^2)\n",
    "\n",
    "6. f(z) = (x -iy^)^3\n",
    "\n",
    "7. f(z) = z bar\n",
    "\n",
    "8. f(z) = z bar/ mod z\n",
    "\n",
    "9. Verify the Algebraic Properties of Limit of Complex functions\n",
    "\n",
    "(a) Sum of limit of Sequence = limit of the sum of sequence\n",
    "\n",
    "(b) lim(c f(z)) = c[lim f(z)]\n",
    "\n",
    "10. Check CR eqn for:\n",
    "\n",
    "a) e^z \n",
    "\n",
    "b) (x^2 + y^2) + i(2xy)\n",
    "\n",
    "c) f(z) = z\n",
    "\n",
    "d) f(z) = z^2\n",
    "\n",
    "e) f(z) = z^2 + z"
   ]
  },
  {
   "cell_type": "code",
   "execution_count": 27,
   "id": "6d85a720",
   "metadata": {},
   "outputs": [
    {
     "name": "stdout",
     "output_type": "stream",
     "text": [
      "Does not satisfy Cauchy-Reyman\n"
     ]
    }
   ],
   "source": [
    "# 1. f(z) = x^2 + y^2 - 2xyi\n",
    "\n",
    "u=x**2 + y**2\n",
    "v= -2*x*y\n",
    "\n",
    "a=u.diff(x)\n",
    "\n",
    "b=v.diff(x)\n",
    "\n",
    "c=u.diff(y)\n",
    "\n",
    "d=v.diff(y)\n",
    "\n",
    "if (a==d and -b==c):\n",
    "    print(\"Satisfies Cauchy Reyman\")\n",
    "else:\n",
    "    print(\"Does not satisfy Cauchy-Reyman\")"
   ]
  },
  {
   "cell_type": "code",
   "execution_count": 28,
   "id": "b5aa4b1f",
   "metadata": {},
   "outputs": [
    {
     "name": "stdout",
     "output_type": "stream",
     "text": [
      "Does not satisfy Cauchy-Reyman\n"
     ]
    }
   ],
   "source": [
    "# 2. f(z) = 2xi + 2xy\n",
    "\n",
    "u= 2*x*y\n",
    "v= 2*x\n",
    "\n",
    "a=u.diff(x)\n",
    "b=v.diff(x)\n",
    "c=u.diff(y)\n",
    "d=v.diff(y)\n",
    "\n",
    "if (a==d and -b==c):\n",
    "    print(\"Satisfies Cauchy Reyman\")\n",
    "else:\n",
    "    print(\"Does not satisfy Cauchy-Reyman\")"
   ]
  },
  {
   "cell_type": "code",
   "execution_count": 29,
   "id": "345ff737",
   "metadata": {},
   "outputs": [
    {
     "name": "stdout",
     "output_type": "stream",
     "text": [
      "Does not satisfy Cauchy-Reyman\n"
     ]
    }
   ],
   "source": [
    "# 3. f(z) = 2x + ixy^2\n",
    "\n",
    "u= 2*x\n",
    "v= x*y**2\n",
    "\n",
    "a=u.diff(x)\n",
    "b=v.diff(x)\n",
    "c=u.diff(y)\n",
    "d=v.diff(y)\n",
    "\n",
    "if (a==d and -b==c):\n",
    "    print(\"Satisfies Cauchy Reyman\")\n",
    "else:\n",
    "    print(\"Does not satisfy Cauchy-Reyman\")"
   ]
  },
  {
   "cell_type": "code",
   "execution_count": 31,
   "id": "ac57fa30",
   "metadata": {},
   "outputs": [
    {
     "name": "stdout",
     "output_type": "stream",
     "text": [
      "Does not satisfy Cauchy-Reyman\n"
     ]
    }
   ],
   "source": [
    "# 4. f(z) = xy + iy\n",
    "\n",
    "u= x*y\n",
    "v= y\n",
    "\n",
    "a=u.diff(x)\n",
    "b=v.diff(x)\n",
    "c=u.diff(y)\n",
    "d=v.diff(y)\n",
    "\n",
    "if (a==d and -b==c):\n",
    "    print(\"Satisfies Cauchy Reyman\")\n",
    "else:\n",
    "    print(\"Does not satisfy Cauchy-Reyman\")"
   ]
  },
  {
   "cell_type": "code",
   "execution_count": 33,
   "id": "03cc1a50",
   "metadata": {},
   "outputs": [
    {
     "name": "stdout",
     "output_type": "stream",
     "text": [
      "Does not satisfy Cauchy-Reyman\n"
     ]
    }
   ],
   "source": [
    "# 5. f(z) = (x+iy)/(x^2 + y^2)\n",
    "\n",
    "u= x/(x**2 + y**2)\n",
    "v= y/(x**2 + y**2)\n",
    "\n",
    "a=u.diff(x)\n",
    "b=v.diff(x)\n",
    "c=u.diff(y)\n",
    "d=v.diff(y)\n",
    "\n",
    "if (a==d and -b==c):\n",
    "    print(\"Satisfies Cauchy Reyman\")\n",
    "else:\n",
    "    print(\"Does not satisfy Cauchy-Reyman\")"
   ]
  },
  {
   "cell_type": "code",
   "execution_count": 34,
   "id": "c7eb8dc7",
   "metadata": {},
   "outputs": [
    {
     "name": "stdout",
     "output_type": "stream",
     "text": [
      "Does not satisfy Cauchy-Reyman\n"
     ]
    }
   ],
   "source": [
    "# 6. f(z) = (x -iy^)^3\n",
    "\n",
    "u= x/(x**2 + y**2)\n",
    "v= y/(x**2 + y**2)\n",
    "\n",
    "a=u.diff(x)\n",
    "b=v.diff(x)\n",
    "c=u.diff(y)\n",
    "d=v.diff(y)\n",
    "\n",
    "if (a==d and -b==c):\n",
    "    print(\"Satisfies Cauchy Reyman\")\n",
    "else:\n",
    "    print(\"Does not satisfy Cauchy-Reyman\")"
   ]
  },
  {
   "cell_type": "code",
   "execution_count": 35,
   "id": "c9153508",
   "metadata": {},
   "outputs": [
    {
     "name": "stdout",
     "output_type": "stream",
     "text": [
      "Does not satisfy Cauchy-Reyman\n"
     ]
    }
   ],
   "source": [
    "# 7. f(z) = z bar\n",
    "\n",
    "u= x\n",
    "v= -y\n",
    "\n",
    "a=u.diff(x)\n",
    "b=v.diff(x)\n",
    "c=u.diff(y)\n",
    "d=v.diff(y)\n",
    "\n",
    "if (a==d and -b==c):\n",
    "    print(\"Satisfies Cauchy Reyman\")\n",
    "else:\n",
    "    print(\"Does not satisfy Cauchy-Reyman\")"
   ]
  },
  {
   "cell_type": "code",
   "execution_count": 36,
   "id": "77385fb8",
   "metadata": {},
   "outputs": [
    {
     "name": "stdout",
     "output_type": "stream",
     "text": [
      "Does not satisfy Cauchy-Reyman\n"
     ]
    }
   ],
   "source": [
    "# 8. f(z) = z bar/ mod z\n",
    "\n",
    "u= x/(x**2 + y**2)**1/2\n",
    "v= -y/(x**2 + y**2)**1/2\n",
    "\n",
    "a=u.diff(x)\n",
    "b=v.diff(x)\n",
    "c=u.diff(y)\n",
    "d=v.diff(y)\n",
    "\n",
    "if (a==d and -b==c):\n",
    "    print(\"Satisfies Cauchy Reyman\")\n",
    "else:\n",
    "    print(\"Does not satisfy Cauchy-Reyman\")"
   ]
  },
  {
   "cell_type": "code",
   "execution_count": null,
   "id": "2d3302a6",
   "metadata": {},
   "outputs": [],
   "source": [
    "u= x/(x**2 + y**2)\n",
    "v= y/(x**2 + y**2)\n",
    "\n",
    "a=u.diff(x)\n",
    "b=v.diff(x)\n",
    "c=u.diff(y)\n",
    "d=v.diff(y)\n",
    "\n",
    "if (a==d and -b==c):\n",
    "    print(\"Satisfies Cauchy Reyman\")\n",
    "else:\n",
    "    print(\"Does not satisfy Cauchy-Reyman\")"
   ]
  },
  {
   "cell_type": "markdown",
   "id": "0ef0708e",
   "metadata": {},
   "source": [
    "### Conclusion:"
   ]
  },
  {
   "cell_type": "markdown",
   "id": "dfccc4d6",
   "metadata": {},
   "source": [
    "In conclusion, this lab practical provided us with a solid understanding of the Cauchy-Riemann equations and how to use loops to check if functions satisfy the equations. We practiced solving a range of problems related to the Cauchy-Riemann equations, which helped us to develop our analytical skills and ability to apply the concepts to real-world problems. "
   ]
  },
  {
   "cell_type": "markdown",
   "id": "f49bf6fb",
   "metadata": {},
   "source": [
    "# LAB 5 :\n",
    "# Harmonic Function and Harmonic Conjugates\n",
    "\n"
   ]
  },
  {
   "cell_type": "markdown",
   "id": "3c2ba269",
   "metadata": {},
   "source": [
    "# Date: 06/02/23 to 18/02/23"
   ]
  },
  {
   "cell_type": "markdown",
   "id": "130a7cf9",
   "metadata": {},
   "source": [
    "### Aim:\n",
    "The goal of this lab is to comprehend the ideas of harmonic function and harmonic conjugates and verify whether a real or imaginary part of a complex function is a harmonic conjugate of another."
   ]
  },
  {
   "cell_type": "markdown",
   "id": "64f1e4e7",
   "metadata": {},
   "source": [
    "### Harmonic Function"
   ]
  },
  {
   "cell_type": "markdown",
   "id": "5e0b1a1e",
   "metadata": {},
   "source": [
    " "
   ]
  },
  {
   "cell_type": "code",
   "execution_count": 3,
   "id": "03ab1b2d",
   "metadata": {},
   "outputs": [],
   "source": [
    "from sympy import *\n",
    "\n",
    "# for the best pretty printing , use the init_printing() function\n",
    "\n",
    "init_printing (use_latex=True)\n",
    "\n",
    "#define harmonic\n",
    "\n",
    "x,y= symbols('x,y')\n",
    "\n",
    "def harmonic(q):\n",
    "    print(\"The function is: \",q)\n",
    "    dqdx = diff(q,x,2)\n",
    "    dqdy = diff(q,y,2)\n",
    "    if dqdx + dqdy == 0:\n",
    "        print('Thus is a harmonic function.')\n",
    "    else:\n",
    "        print('This is a not a harmonic function.')\n",
    "    "
   ]
  },
  {
   "cell_type": "code",
   "execution_count": 4,
   "id": "37c8b9f8",
   "metadata": {},
   "outputs": [
    {
     "name": "stdout",
     "output_type": "stream",
     "text": [
      "The function is:  x**3 - 3*x*y**2\n",
      "Thus is a harmonic function.\n"
     ]
    }
   ],
   "source": [
    "# 1. x**3 - 3*x*y**2\n",
    "\n",
    "harmonic(x**3 - 3*x*y**2)"
   ]
  },
  {
   "cell_type": "code",
   "execution_count": 5,
   "id": "3ff7f6cb",
   "metadata": {},
   "outputs": [
    {
     "name": "stdout",
     "output_type": "stream",
     "text": [
      "The function is:  x**2 + x - y**2 + 1\n",
      "Thus is a harmonic function.\n"
     ]
    }
   ],
   "source": [
    "## 2.  x^2 - y^2 + x + 1\n",
    "\n",
    "harmonic(x**2 - y**2 + x + 1)"
   ]
  },
  {
   "cell_type": "code",
   "execution_count": 6,
   "id": "209d4a2b",
   "metadata": {},
   "outputs": [
    {
     "name": "stdout",
     "output_type": "stream",
     "text": [
      "The function is:  x**2*y - x*y**2\n",
      "This is a not a harmonic function.\n"
     ]
    }
   ],
   "source": [
    "# 3. x^2y - y^2 x\n",
    "\n",
    "harmonic(x**2*(y) - y**2*(x))"
   ]
  },
  {
   "cell_type": "markdown",
   "id": "1a01e862",
   "metadata": {},
   "source": [
    "### Harmonic Conjugates"
   ]
  },
  {
   "cell_type": "markdown",
   "id": "8255aa5d",
   "metadata": {},
   "source": [
    "Let u(x,y) be a harmonic function then a function v(x,y) is said to be a harmonic conjugate of u(x,y) if \n",
    "\n",
    "1. v(x,y) is harmonic\n",
    "\n",
    "2. u and v satisfies the CR equations"
   ]
  },
  {
   "cell_type": "code",
   "execution_count": 16,
   "id": "14337d8a",
   "metadata": {},
   "outputs": [],
   "source": [
    "def harmonic_conjugate(u,v):\n",
    "    print(\"the function is:\",u)\n",
    "    dudx=diff(u,x,2)\n",
    "    dudy=diff(u,y,2)\n",
    "    if dudx+dudy==0:\n",
    "        print(\"The function is harmonic\")\n",
    "        ux=u.diff(x)\n",
    "        vy=v.diff(y)\n",
    "        uy=u.diff(y)\n",
    "        vx=v.diff(x)\n",
    "        if (ux==vy and uy==-vx):\n",
    "            print(\"The function is harmonic conjugate\")\n",
    "        else:\n",
    "            print(\"The function is harmonic but does not satisfy CR equation\")\n",
    "    else:\n",
    "        print(\"The function is not harmonic itself, thus is not a harmonic conjugate\")"
   ]
  },
  {
   "cell_type": "code",
   "execution_count": 17,
   "id": "93419689",
   "metadata": {},
   "outputs": [
    {
     "name": "stdout",
     "output_type": "stream",
     "text": [
      "the function is: -x**2/2 + y**2/2\n",
      "The function is harmonic\n",
      "The function is harmonic but does not satisfy CR equation\n"
     ]
    }
   ],
   "source": [
    "## 1. Check if -x^2/ 2 + y^2/2 is the harmonic conjugate of x^2 - y^2 + x + 1 \n",
    "\n",
    "harmonic_conjugate(-x**2/2 + y**2/2, x**2 - y**2 + x + 1)"
   ]
  },
  {
   "cell_type": "code",
   "execution_count": 18,
   "id": "d807f5bd",
   "metadata": {},
   "outputs": [
    {
     "name": "stdout",
     "output_type": "stream",
     "text": [
      "the function is: x**2 + x - y**2 + 1\n",
      "The function is harmonic\n",
      "The function is harmonic but does not satisfy CR equation\n"
     ]
    }
   ],
   "source": [
    "harmonic_conjugate(x**2 - y**2 + x + 1,-x**2/2 + y**2/2)"
   ]
  },
  {
   "cell_type": "code",
   "execution_count": 19,
   "id": "ac4c6a14",
   "metadata": {},
   "outputs": [
    {
     "name": "stdout",
     "output_type": "stream",
     "text": [
      "the function is: -x**2/2 + y**2/2\n",
      "The function is harmonic\n",
      "The function is harmonic but does not satisfy CR equation\n"
     ]
    }
   ],
   "source": [
    "## 2. Check if -x^2/2 + y^2/2 is the harmonic conjuagte of xy\n",
    "\n",
    "harmonic_conjugate(-x**2/2 + y**2/2, x*y)"
   ]
  },
  {
   "cell_type": "code",
   "execution_count": 14,
   "id": "59290431",
   "metadata": {},
   "outputs": [],
   "source": [
    "from sympy import *\n",
    "\n",
    "import math\n",
    "\n",
    "def conjugate():\n",
    "    init_printing(use_latex=True)\n",
    "    x,y,c = symbols(\"x,y,c\")\n",
    "    u=input(\"Enter the function u: \")\n",
    "    print(\" \")\n",
    "    dx2=diff(u,x,2)\n",
    "    dy2=diff(u,y,2)\n",
    "    if dx2 + dy2 == 0:\n",
    "        print(\"The function \", u, \"is harmonic.\")\n",
    "        dux=diff(u,x) #xy\n",
    "        duy=diff(u,y) #-vx\n",
    "        iv=integrate(-duy, x)\n",
    "        vy=diff(iv,y)\n",
    "        gy=dux - vy\n",
    "        ig=integrate(gy,y)\n",
    "        v=iv + ig\n",
    "        print(\"The harmonic conjugate of u is: \")\n",
    "        display(v)\n",
    "    else:\n",
    "        print(\"The function \", u, \"is not harmonic.\")"
   ]
  },
  {
   "cell_type": "markdown",
   "id": "a51efeac",
   "metadata": {},
   "source": [
    "1. Check if -x^2/2 + y^2/2 is the harmonic conjugate of x^2 - y^2 + x + 1\n",
    "\n",
    "2. Check if -x^2/2 + y^2/2 is the harmonic conjugate of xy\n",
    "\n",
    "3. Check if x^2 - y^2 is the harmonic conjugate of 2xy + 3\n",
    "\n",
    "4. Check if x^2 - y^2 is the harmonic conjugate of 2xy"
   ]
  },
  {
   "cell_type": "code",
   "execution_count": 19,
   "id": "faf28176",
   "metadata": {},
   "outputs": [],
   "source": [
    "from sympy import *\n",
    "import math\n",
    "init_printing(use_latex=True)\n",
    "x,y,c = symbols('x,y,c')"
   ]
  },
  {
   "cell_type": "code",
   "execution_count": 22,
   "id": "1cd941c4",
   "metadata": {},
   "outputs": [],
   "source": [
    "def harmonic_conjugate(u,v):\n",
    "    print(\"the function is:\",u)\n",
    "    dudx=diff(u,x,2)\n",
    "    dudy=diff(u,y,2)\n",
    "    if dudx+dudy==0:\n",
    "        print(\"The function is harmonic\")\n",
    "        ux=u.diff(x)\n",
    "        vy=v.diff(y)\n",
    "        uy=u.diff(y)\n",
    "        vx=v.diff(x)\n",
    "        if (ux==vy and uy==-vx):\n",
    "            print(\"The function is a harmonic conjugate\")\n",
    "        else:\n",
    "            print(\"The function is harmonic but does not satisfy the CR equations\")\n",
    "    else:\n",
    "        print(\"The function is not harmonic itself, thus it is not a harmonic conjugate\")"
   ]
  },
  {
   "cell_type": "code",
   "execution_count": 23,
   "id": "68cb23bb",
   "metadata": {},
   "outputs": [
    {
     "name": "stdout",
     "output_type": "stream",
     "text": [
      "the function is: x**2 + x - y**2 + 1\n",
      "The function is harmonic\n",
      "The function is harmonic but does not satisfy the CR equations\n"
     ]
    }
   ],
   "source": [
    "# 1. Check if -x^2/2 + y^2/2 is the harmonic conjugate of x^2 - y^2 + x + 1\n",
    "\n",
    "harmonic_conjugate(x**2 - y**2 + x +1, -x**2/2 + y**2/2)"
   ]
  },
  {
   "cell_type": "code",
   "execution_count": 24,
   "id": "876b2f28",
   "metadata": {},
   "outputs": [
    {
     "name": "stdout",
     "output_type": "stream",
     "text": [
      "the function is: x*y\n",
      "The function is harmonic\n",
      "The function is a harmonic conjugate\n"
     ]
    }
   ],
   "source": [
    "# 2. Check if -x^2/2 + y^2/2 is the harmonic conjugate of xy\n",
    "\n",
    "harmonic_conjugate(x*y, -x**2/2 + y**2/2)"
   ]
  },
  {
   "cell_type": "code",
   "execution_count": 25,
   "id": "8a162c96",
   "metadata": {},
   "outputs": [
    {
     "name": "stdout",
     "output_type": "stream",
     "text": [
      "the function is: 2*x*y + 3\n",
      "The function is harmonic\n",
      "The function is harmonic but does not satisfy the CR equations\n"
     ]
    }
   ],
   "source": [
    "# 3. Check if x^2 - y^2 is the harmonic conjugate of 2xy + 3\n",
    "\n",
    "harmonic_conjugate(2*x*y + 3, x**2 - y**2)"
   ]
  },
  {
   "cell_type": "code",
   "execution_count": 26,
   "id": "c07b7bc6",
   "metadata": {},
   "outputs": [
    {
     "name": "stdout",
     "output_type": "stream",
     "text": [
      "the function is: x**2 - y**2\n",
      "The function is harmonic\n",
      "The function is a harmonic conjugate\n"
     ]
    }
   ],
   "source": [
    "# 4. Check if x^2 - y^2 is the harmonic conjugate of 2xy\n",
    "\n",
    "harmonic_conjugate(x**2 - y**2, 2*x*y)"
   ]
  },
  {
   "cell_type": "markdown",
   "id": "9581952f",
   "metadata": {},
   "source": [
    "#### Find the harmonic conjugate of\n",
    "\n",
    "1. x^3 - 3xy^2 \n",
    "\n",
    "2. x^2 - y^2 + 2\n",
    "\n",
    "3. e^x sin(y)\n",
    "\n",
    "4. x^2 y + 2x"
   ]
  },
  {
   "cell_type": "code",
   "execution_count": 27,
   "id": "32ffdbf0",
   "metadata": {},
   "outputs": [],
   "source": [
    "import math\n",
    "\n",
    "def conjugate(u):\n",
    "    init_printing(use_latex=True)\n",
    "    x,y,c = symbols(\"x,y,c\")\n",
    "    u=input(\"Enter the function u: \")\n",
    "    print(\" \")\n",
    "    dx2=diff(u,x,2)\n",
    "    dy2=diff(u,y,2)\n",
    "    if dx2 + dy2 == 0:\n",
    "        print(\"The function \", u, \"is harmonic.\")\n",
    "        dux=diff(u,x) #xy\n",
    "        duy=diff(u,y) #-vx\n",
    "        iv=integrate(-duy, x)\n",
    "        vy=diff(iv,y)\n",
    "        gy=dux - vy\n",
    "        ig=integrate(gy,y)\n",
    "        v=iv + ig\n",
    "        print(\"The harmonic conjugate of u is: \")\n",
    "        display(v)\n",
    "    else:\n",
    "        print(\"The function \", u, \"is not harmonic.\")"
   ]
  },
  {
   "cell_type": "code",
   "execution_count": 14,
   "id": "24a1fcd8",
   "metadata": {},
   "outputs": [
    {
     "name": "stdout",
     "output_type": "stream",
     "text": [
      "Enter the function u: x**3 - 3*x*y**2\n",
      " \n",
      "The function  x**3 - 3*x*y**2 is harmonic.\n",
      "The harmonic conjugate of u is: \n"
     ]
    },
    {
     "data": {
      "image/png": "[encoded data removed]",
      "text/latex": [
       "$\\displaystyle 3 x^{2} y - y^{3}$"
      ],
      "text/plain": [
       "   2      3\n",
       "3⋅x ⋅y - y "
      ]
     },
     "metadata": {},
     "output_type": "display_data"
    }
   ],
   "source": [
    "#1 x^3 - 3xy^2\n",
    "\n",
    "conjugate(x**3 - 3*x*y**2)"
   ]
  },
  {
   "cell_type": "code",
   "execution_count": 16,
   "id": "ad4306fd",
   "metadata": {},
   "outputs": [
    {
     "name": "stdout",
     "output_type": "stream",
     "text": [
      "Enter the function u: x**2 - y**2 + 2\n",
      " \n",
      "The function  x**2 - y**2 + 2 is harmonic.\n",
      "The harmonic conjugate of u is: \n"
     ]
    },
    {
     "data": {
      "image/png": "[encoded data removed]",
      "text/latex": [
       "$\\displaystyle 2 x y$"
      ],
      "text/plain": [
       "2⋅x⋅y"
      ]
     },
     "metadata": {},
     "output_type": "display_data"
    }
   ],
   "source": [
    "#2 x^2 - y^2 + 2\n",
    "\n",
    "conjugate(x**2 - y**2 + 2)"
   ]
  },
  {
   "cell_type": "code",
   "execution_count": 17,
   "id": "229af542",
   "metadata": {},
   "outputs": [
    {
     "name": "stdout",
     "output_type": "stream",
     "text": [
      "Enter the function u: e**x *sin(y)\n",
      " \n",
      "The function  e**x *sin(y) is not harmonic.\n"
     ]
    }
   ],
   "source": [
    "#3 e^x sin(y)\n",
    "\n",
    "conjugate(e**x *sin(y))"
   ]
  },
  {
   "cell_type": "code",
   "execution_count": 41,
   "id": "5df9266d",
   "metadata": {},
   "outputs": [
    {
     "name": "stdout",
     "output_type": "stream",
     "text": [
      "Enter the function u: (x**2)*y + 2*x\n",
      " \n",
      "The function  (x**2)*y + 2*x is not harmonic.\n"
     ]
    }
   ],
   "source": [
    "#4 x^2 y + 2x\n",
    "\n",
    "conjugate((x**2)*y + 2*x)"
   ]
  },
  {
   "cell_type": "markdown",
   "id": "a516a634",
   "metadata": {},
   "source": [
    "### Conclusion"
   ]
  },
  {
   "cell_type": "markdown",
   "id": "3bc3c178",
   "metadata": {},
   "source": [
    "In conclusion, this lab practical helped us to develop a better understanding of harmonic functions and harmonic conjugates. We learned how to identify whether an imaginary or real part of a complex function is a harmonic conjugate of another function. We also learned about the Laplace equation and its relationship to harmonic functions."
   ]
  },
  {
   "cell_type": "markdown",
   "id": "bdb948bf",
   "metadata": {},
   "source": [
    "# LAB 6\n",
    "# MILNE THOMSON METHOD"
   ]
  },
  {
   "cell_type": "markdown",
   "id": "624705d6",
   "metadata": {},
   "source": [
    "# Date - 20/02/23 to 04/03/23"
   ]
  },
  {
   "cell_type": "markdown",
   "id": "d9e2310c",
   "metadata": {},
   "source": [
    "### Aim:\n",
    "The aim of this lab is to demonstrate the method of Milne-Thomson method which is used to find real or imaginary part of a complex function."
   ]
  },
  {
   "cell_type": "markdown",
   "id": "f2b71615",
   "metadata": {},
   "source": [
    "It is a method for finding a holomorphic function whose real and imaginary part is given. \n",
    "let $f$ be a complex variable function given by $f(z) = u(x,y) + iv(x,y)$ where $z = x+ iy$.\n",
    "\n",
    "Then f(z) can be constructed if either $u$ or $v$ is given\n",
    "\n",
    "<b> Case 1: When u is given. </b>\n",
    "    \n",
    "Step 1: Find $\\dfrac{\\partial u}{\\partial x}$ and equate it to $u_x$\n",
    "\n",
    "Step 2: Find $\\dfrac{\\partial u}{\\partial y}$ and equate it to $u_y$\n",
    "\n",
    "Step 3: Find $f'(x,y)$ by the formula $f'(x,y) = u_x -iu_y$\n",
    "\n",
    "Step 4: Replace $x$ by $z$ and $y$ by 0 in $f'(x)$ to get $f'(z,0)$\n",
    "\n",
    "Step 5: Find $f(z)$ by the formula $f(z) = \\int{f'(z,0)dz +c}$\n",
    "\n",
    "\n",
    "\n",
    "<b>Case 2: When v is given.</b>\n",
    "\n",
    "Step 1: Find $\\dfrac{\\partial v}{\\partial x}$ and equate it to $v_x$\n",
    "\n",
    "Step 2: Find $\\dfrac{\\partial v}{\\partial y}$ and equate it to $v_y$\n",
    "\n",
    "Step 3: Find $f'(x,y)$ by the formula $f'(x,y) = v_x -iv_y$\n",
    "\n",
    "Step 4: Replace $x$ by $z$ and $y$ by 0 in $f'(x)$ to get $f'(z,0)$\n",
    "\n",
    "Step 5: Find $f(z)$ by the formula $f(z) = \\int{f'(z,0)dz +c}$"
   ]
  },
  {
   "cell_type": "markdown",
   "id": "d7b65500",
   "metadata": {},
   "source": [
    "Example: Considering $e^x (xcosy + ysiny)$ as\n",
    "\n",
    "(i) the real part and\n",
    "\n",
    "(ii) the imaginary part\n",
    "\n",
    "of the corresponding function, find the analytic function for the same"
   ]
  },
  {
   "cell_type": "code",
   "execution_count": 10,
   "id": "20da016d",
   "metadata": {},
   "outputs": [
    {
     "name": "stdout",
     "output_type": "stream",
     "text": [
      "ux= (x*cos(y) - y*sin(y))*exp(x) + exp(x)*cos(y)\n",
      "uy= (-x*sin(y) - y*cos(y) - sin(y))*exp(x)\n",
      "f'(x,y)= (x*cos(y) - y*sin(y) + 1.0*I*(x*sin(y) + y*cos(y) + sin(y)) + cos(y))*exp(x)\n",
      "f'(z,0)= (z + 1)*exp(z)\n",
      "f=z*exp(z)\n",
      "\n",
      "vx= -1.0*I*x*exp(x)*sin(x) + 1.0*I*x*exp(x)*cos(x) + 1.0*I*exp(x)*cos(x)\n",
      "vy= -y*cos(y) - sin(y)\n",
      "f'(x,y)= -y*cos(y) + 1.0*I*(-1.0*I*x*exp(x)*sin(x) + 1.0*I*x*exp(x)*cos(x) + 1.0*I*exp(x)*cos(x)) - sin(y)\n",
      "f'(z,0)= 1.0*I*(-1.0*I*z*exp(z)*sin(z) + 1.0*I*z*exp(z)*cos(z) + 1.0*I*exp(z)*cos(z))\n",
      "f=-1.0*z*exp(z)*cos(z)\n"
     ]
    }
   ],
   "source": [
    "from sympy import *\n",
    "\n",
    "x,y,z=symbols('x,y,z')\n",
    "\n",
    "def u_giv(u):\n",
    "    ux=diff(u,x)\n",
    "    print(\"ux=\",ux)\n",
    "    uy=diff(u,y)\n",
    "    print(\"uy=\",uy)\n",
    "    fp=simplify(ux-1j*uy)\n",
    "    print(\"f'(x,y)=\",str(fp))\n",
    "    g=fp.subs({x:z,y:0})\n",
    "    print(\"f'(z,0)=\",g)\n",
    "    f=integrate(g,z)\n",
    "    return(\"f=\"+str(f))\n",
    "\n",
    "def v_giv(v):\n",
    "    vx=diff(v,x)\n",
    "    print(\"vx=\",vx)\n",
    "    vy=diff(v,y)\n",
    "    print(\"vy=\",vy)\n",
    "    fp=vy+1j*vx\n",
    "    print(\"f'(x,y)=\",str(fp))\n",
    "    g=fp.subs({x:z,y:0})\n",
    "    print(\"f'(z,0)=\",g)\n",
    "    f=integrate(g,z)\n",
    "    return(\"f=\"+str(f))\n",
    "\n",
    "pprint(u_giv(exp(x)*(x*cos(y) - y*sin(y))))\n",
    "print()\n",
    "\n",
    "pprint(v_giv(1j*exp(x)*(x*cos(x))- y*sin(y)))"
   ]
  },
  {
   "cell_type": "markdown",
   "id": "2c165939",
   "metadata": {},
   "source": [
    "### Conclusion:\n",
    "Milne Thomson method is another method for computing real or imaginary part and the workings of the same was seen through this lab"
   ]
  },
  {
   "cell_type": "markdown",
   "id": "f6556cd7",
   "metadata": {},
   "source": [
    "# LAB 7\n",
    "# ORTHOGONAL FAMILIES OF CURVE"
   ]
  },
  {
   "cell_type": "markdown",
   "id": "2df20651",
   "metadata": {},
   "source": [
    "# Date: 05/03/2023"
   ]
  },
  {
   "cell_type": "markdown",
   "id": "73012378",
   "metadata": {},
   "source": [
    "### Orthogonal Families of curves\n",
    "\n",
    "Suppose the function $f(z) = u(x,y) + iv(x,y)$ is an analytic in some domain D. Then the real and imaginary parts of $f$ can be used to define two families of curves in $D$. The equations $u(x,y) = c1$ and $v(x,y) = c2$ where $c1$ and $c2$ are arbitrary real constants, are called level curves of $u$ and $v$ respectively. The level curves are orthogonal families."
   ]
  },
  {
   "cell_type": "markdown",
   "id": "c9d083c3",
   "metadata": {},
   "source": [
    "1. Suppose the function $f(z) = e^x cosy + ie^y sinx$ is analytic in some domain D. Write a python program to find the orthogonal family of curves corresponding to real and imaginary parts of the function. Also plot the curves. "
   ]
  },
  {
   "cell_type": "code",
   "execution_count": 2,
   "id": "41e662e9",
   "metadata": {},
   "outputs": [
    {
     "data": {
      "image/png": "[encoded data removed]",
      "text/plain": [
       "<Figure size 432x288 with 1 Axes>"
      ]
     },
     "metadata": {
      "needs_background": "light"
     },
     "output_type": "display_data"
    }
   ],
   "source": [
    "from numpy import *\n",
    "from sympy import *\n",
    "\n",
    "x,y = symbols('x,y')\n",
    "p1=plot_implicit(Eq(exp(x)*cos(y),10), line_color='blue', line_width=4)\n",
    "None"
   ]
  },
  {
   "cell_type": "code",
   "execution_count": 4,
   "id": "255bb928",
   "metadata": {},
   "outputs": [
    {
     "data": {
      "image/png": "[encoded data removed]",
      "text/plain": [
       "<Figure size 432x288 with 1 Axes>"
      ]
     },
     "metadata": {
      "needs_background": "light"
     },
     "output_type": "display_data"
    }
   ],
   "source": [
    "from numpy import *\n",
    "from sympy import *\n",
    "\n",
    "x,y = symbols('x,y')\n",
    "p2=plot_implicit(Eq(exp(y)*sin(x),10), line_color='red', line_width=4)\n",
    "None"
   ]
  },
  {
   "cell_type": "code",
   "execution_count": 6,
   "id": "8488b0a6",
   "metadata": {},
   "outputs": [
    {
     "data": {
      "image/png": "[encoded data removed]",
      "text/plain": [
       "<Figure size 432x288 with 1 Axes>"
      ]
     },
     "metadata": {
      "needs_background": "light"
     },
     "output_type": "display_data"
    },
    {
     "data": {
      "image/png": "[encoded data removed]",
      "text/plain": [
       "<Figure size 432x288 with 1 Axes>"
      ]
     },
     "metadata": {
      "needs_background": "light"
     },
     "output_type": "display_data"
    }
   ],
   "source": [
    "from numpy import *\n",
    "from sympy import *\n",
    "\n",
    "x,y = symbols('x,y')\n",
    "p1=plot_implicit(Eq(exp(x)*cos(y),10), line_color='blue', line_width=4)\n",
    "p2=plot_implicit(Eq(exp(y)*sin(x),10), line_color='red', line_width=4)\n",
    "None\n",
    "p1.extend(p2)\n",
    "p1\n",
    "p1.show\n",
    "None"
   ]
  },
  {
   "cell_type": "markdown",
   "id": "2e3dcafa",
   "metadata": {},
   "source": [
    "2. $x^3 y - x y^3 = C$"
   ]
  },
  {
   "cell_type": "code",
   "execution_count": 7,
   "id": "153b0263",
   "metadata": {},
   "outputs": [],
   "source": [
    "import numpy as np\n",
    "def ortho_family(x,y):\n",
    "    u=x**3* y\n",
    "    v=x*y**3\n",
    "    return u,v"
   ]
  },
  {
   "cell_type": "code",
   "execution_count": 8,
   "id": "929cd3b7",
   "metadata": {},
   "outputs": [
    {
     "data": {
      "text/plain": [
       "(32, 128)"
      ]
     },
     "execution_count": 8,
     "metadata": {},
     "output_type": "execute_result"
    }
   ],
   "source": [
    "ortho_family(2,4)"
   ]
  },
  {
   "cell_type": "code",
   "execution_count": 12,
   "id": "35481a68",
   "metadata": {},
   "outputs": [
    {
     "data": {
      "image/png": "[encoded data removed]",
      "text/plain": [
       "<Figure size 432x288 with 1 Axes>"
      ]
     },
     "metadata": {
      "needs_background": "light"
     },
     "output_type": "display_data"
    },
    {
     "data": {
      "image/png": "[encoded data removed]",
      "text/plain": [
       "<Figure size 432x288 with 1 Axes>"
      ]
     },
     "metadata": {
      "needs_background": "light"
     },
     "output_type": "display_data"
    }
   ],
   "source": [
    "from numpy import *\n",
    "from sympy import *\n",
    "import matplotlib.pyplot as plt\n",
    "x,y = symbols('x,y')\n",
    "p1=plot_implicit(Eq(x*y**3,5),(x,-10,10),(y,-10,10), line_color='blue', line_width=4)\n",
    "p2=plot_implicit(Eq(x**3*y,5),(x,-10,10),(y,-10,10), line_color='red', line_width=4)\n",
    "None\n",
    "p1.extend(p2)\n",
    "p1\n",
    "p1.show\n",
    "None"
   ]
  },
  {
   "cell_type": "markdown",
   "id": "9fdfe39d",
   "metadata": {},
   "source": [
    "### For the following problems find the corresponding conjugate and plot the orthogonal families of curves: "
   ]
  },
  {
   "cell_type": "markdown",
   "id": "5ba7e973",
   "metadata": {},
   "source": [
    "3. $e^x sin(y) = c$\n",
    "\n",
    "4. $e^(-x) cos(y) + xy = C$\n",
    "\n",
    "5. $sin(x) cos(hx) $"
   ]
  },
  {
   "cell_type": "code",
   "execution_count": 2,
   "id": "34357cab",
   "metadata": {},
   "outputs": [
    {
     "data": {
      "image/png": "[encoded data removed]",
      "text/plain": [
       "<Figure size 432x288 with 1 Axes>"
      ]
     },
     "metadata": {
      "needs_background": "light"
     },
     "output_type": "display_data"
    }
   ],
   "source": [
    "from numpy import *\n",
    "from sympy import *\n",
    "\n",
    "x,y = symbols('x,y')\n",
    "p1=plot_implicit(Eq(exp(x)*sin(y),10), line_color='red', line_width=4)\n",
    "None"
   ]
  },
  {
   "cell_type": "code",
   "execution_count": 3,
   "id": "b3309798",
   "metadata": {},
   "outputs": [
    {
     "data": {
      "image/png": "[encoded data removed]",
      "text/plain": [
       "<Figure size 432x288 with 1 Axes>"
      ]
     },
     "metadata": {
      "needs_background": "light"
     },
     "output_type": "display_data"
    }
   ],
   "source": [
    "from numpy import *\n",
    "from sympy import *\n",
    "\n",
    "x,y = symbols('x,y')\n",
    "p1=plot_implicit(Eq(exp(-x)*cos(y) + x*y,10), line_color='red', line_width=4)\n",
    "None"
   ]
  },
  {
   "cell_type": "code",
   "execution_count": 6,
   "id": "557bf2a5",
   "metadata": {},
   "outputs": [
    {
     "data": {
      "image/png": "[encoded data removed]",
      "text/plain": [
       "<Figure size 432x288 with 1 Axes>"
      ]
     },
     "metadata": {
      "needs_background": "light"
     },
     "output_type": "display_data"
    }
   ],
   "source": [
    "x,y = symbols('x,y')\n",
    "p1=plot_implicit(Eq(sin(x)*sinh(y) + x*y,10), line_color='red', line_width=4)\n",
    "None"
   ]
  },
  {
   "cell_type": "markdown",
   "id": "46b251ba",
   "metadata": {},
   "source": [
    "### Conclusion:\n",
    "In this lab, we learnt the concept of orthogonal families of curves, found the conjugate of the functions and plotted the orthogonal curves."
   ]
  },
  {
   "cell_type": "markdown",
   "id": "e220842c",
   "metadata": {},
   "source": [
    "# Lab 8"
   ]
  },
  {
   "cell_type": "markdown",
   "id": "545d5bec",
   "metadata": {},
   "source": [
    "# Conformal Mapping\n",
    "\n",
    "### 27.03.23"
   ]
  },
  {
   "cell_type": "markdown",
   "id": "9e5ac759",
   "metadata": {},
   "source": [
    "### Aim:\n",
    "The aim of this lab is to learn about an angle-preserving transformation that is conformal mapping and checking if various functions are conformal.\n",
    "\n",
    "A conformal mapping, also called a conformal map, conformal transformation, angle-preserving transformation, or biholomorphic map, is a transformation. that preserves local angles. An analytic function is conformal at any point where it has a nonzero derivative."
   ]
  },
  {
   "cell_type": "markdown",
   "id": "c6c4340d",
   "metadata": {},
   "source": [
    "A transformation is conformal when T(z) is analytic and T'(z) is not equal to 0.\n",
    " Algo\n",
    " 1. Defome x y z as symbols\n",
    " 2. define function in terms of z and real and imagianry parts seperate.\n",
    " 3. check whether the given function satisfies CR equation or not. If yes set a=1.\n",
    " 4. check whether the given function have any critical points or not . If no, set b=1.\n",
    " 5. if a=1, b=1, the functions is conformal.\n"
   ]
  },
  {
   "cell_type": "code",
   "execution_count": 1,
   "id": "e5dcd24b",
   "metadata": {},
   "outputs": [],
   "source": [
    "import math\n",
    "import cmath\n",
    "import sympy as sp\n",
    "\n",
    "#### check if following are conformal.\n",
    "\n",
    "x,y,z=sp.symbols('x,y,z')"
   ]
  },
  {
   "cell_type": "markdown",
   "id": "2a008d88",
   "metadata": {},
   "source": [
    "Q1 $e^z=e^x(cosy+isiny)$"
   ]
  },
  {
   "cell_type": "code",
   "execution_count": 3,
   "id": "9935a03b",
   "metadata": {},
   "outputs": [
    {
     "name": "stdout",
     "output_type": "stream",
     "text": [
      "a= 1\n",
      "derivative= exp(z)\n",
      "critical points= []\n",
      "b= 1\n",
      "This is a conformal mapping\n"
     ]
    }
   ],
   "source": [
    "f=sp.exp(z)\n",
    "r=sp.exp(x)*sp.cos(y)\n",
    "i=sp.exp(x)*sp.sin(y)\n",
    "du_dx=sp.diff(r,x)\n",
    "dv_dy=sp.diff(i,y)\n",
    "du_dy=sp.diff(r,y)\n",
    "dv_dx=sp.diff(i,x)\n",
    "if du_dx==sp.simplify(dv_dy) and du_dy==sp.simplify(-dv_dx):\n",
    "    a=1\n",
    "else:\n",
    "    a=0\n",
    "print(\"a=\",a)\n",
    "d=sp.diff(f)\n",
    "print(\"derivative=\",d)\n",
    "s=sp.solve(d,z)\n",
    "print('critical points=',s)\n",
    "if len(s)==0:\n",
    "    b=1\n",
    "else:\n",
    "    b=0\n",
    "print('b=',b)\n",
    "if a==1 and b==1:\n",
    "    print(\"This is a conformal mapping\")\n",
    "else:\n",
    "    print(\"this is not a conformal mapping\")"
   ]
  },
  {
   "cell_type": "markdown",
   "id": "09c721e2",
   "metadata": {},
   "source": [
    "Q2 $z^2=x^2+2xiy$"
   ]
  },
  {
   "cell_type": "code",
   "execution_count": 6,
   "id": "74468d38",
   "metadata": {},
   "outputs": [
    {
     "name": "stdout",
     "output_type": "stream",
     "text": [
      "a= 1\n",
      "derivative= 2*z\n",
      "critical points =  [0]\n",
      "b= 0\n",
      "This is not a conformal transformation\n"
     ]
    }
   ],
   "source": [
    "f=z**2\n",
    "r=x**2 - y**2 \n",
    "i=2*x*y\n",
    "\n",
    "du_dx=sp.diff(r,x)\n",
    "dv_dy=sp.diff(i,y)\n",
    "du_dy=sp.diff(r,y)\n",
    "dv_dx=sp.diff(i,x)\n",
    "if du_dx==sp.simplify(dv_dy) and du_dy==sp.simplify(-dv_dx):\n",
    "    a=1\n",
    "else:\n",
    "    a=0\n",
    "print ('a=',a)\n",
    "d=sp.diff(f)\n",
    "print('derivative=',d)\n",
    "s=sp.solve(d,z)\n",
    "print('critical points = ', s)\n",
    "if len(s) == 0:\n",
    "    b=1\n",
    "else:\n",
    "    b=0\n",
    "print('b=',b)    \n",
    "if a==1 and b==1:\n",
    "    print(\"This is a conformal transformation\")\n",
    "else:\n",
    "    print(\"This is not a conformal transformation\")"
   ]
  },
  {
   "cell_type": "markdown",
   "id": "6d9cd08d",
   "metadata": {},
   "source": [
    "Q3 $sin(z)=cosh(-y)cos(x)+isinh(-y)sin(x)$"
   ]
  },
  {
   "cell_type": "code",
   "execution_count": 8,
   "id": "979f3a13",
   "metadata": {
    "scrolled": true
   },
   "outputs": [
    {
     "name": "stdout",
     "output_type": "stream",
     "text": [
      "a= 1\n",
      "derivative= cos(z)\n",
      "critical points =  [pi/2, 3*pi/2]\n",
      "b= 0\n",
      "This is not a conformal transformation\n"
     ]
    }
   ],
   "source": [
    "f=sp.sin(z)\n",
    "r=sp.cosh(-y)*sp.cos(x) \n",
    "i=sp.sinh(-y)*sp.sin(x)\n",
    "\n",
    "du_dx=sp.diff(r,x)\n",
    "dv_dy=sp.diff(i,y)\n",
    "du_dy=sp.diff(r,y)\n",
    "dv_dx=sp.diff(i,x)\n",
    "if du_dx==sp.simplify(dv_dy) and du_dy==sp.simplify(-dv_dx):\n",
    "    a=1\n",
    "else:\n",
    "    a=0\n",
    "print ('a=',a)\n",
    "d=sp.diff(f)\n",
    "print('derivative=',d)\n",
    "s=sp.solve(d,z)\n",
    "print('critical points = ', s)\n",
    "if len(s) == 0:\n",
    "    b=1\n",
    "else:\n",
    "    b=0\n",
    "print('b=',b)    \n",
    "if a==1 and b==1:\n",
    "    print(\"This is a conformal transformation\")\n",
    "else:\n",
    "    print(\"This is not a conformal transformation\")"
   ]
  },
  {
   "cell_type": "markdown",
   "id": "9a5ff9cd",
   "metadata": {},
   "source": [
    "## Conclusion: \n",
    "We covered the topic of conformal mapping and discussed the conditions that a function must satisfy in order to be considered a conformal transformation. Additionally, we delved into the concept of conformal transformation and explored its intricacies."
   ]
  },
  {
   "cell_type": "markdown",
   "id": "367a957c",
   "metadata": {},
   "source": [
    "# LAB 9\n",
    "# Transformations"
   ]
  },
  {
   "cell_type": "markdown",
   "id": "0d00e822",
   "metadata": {},
   "source": [
    "### 03.04.23"
   ]
  },
  {
   "cell_type": "markdown",
   "id": "d28be901",
   "metadata": {},
   "source": [
    "## Aim -\n",
    "The aim of this lab is to learn about four basic transformations of complex numbers i.e., Reflection, Translation, Rotation/Magnification and Inversion. In this lab, we will plot an original point and its corresponding elementary transformation."
   ]
  },
  {
   "cell_type": "markdown",
   "id": "4857d90a",
   "metadata": {},
   "source": [
    "The basic elementary transformations of complex numbers are reflection, translation, rotation and dilation"
   ]
  },
  {
   "cell_type": "markdown",
   "id": "283162b9",
   "metadata": {},
   "source": [
    "## <center> Reflection </center>"
   ]
  },
  {
   "cell_type": "markdown",
   "id": "80a59ef5",
   "metadata": {},
   "source": [
    "#### Reflection of point (5,6) with respect too x axis is (5,-6) and wrt y axis is (-5,6)"
   ]
  },
  {
   "cell_type": "code",
   "execution_count": 2,
   "id": "fe7ca67a",
   "metadata": {},
   "outputs": [
    {
     "name": "stdout",
     "output_type": "stream",
     "text": [
      "Enter the value of x coordinate: 6\n",
      "Enter the value of y coordinate: 4\n",
      "Reflection wrt to which axis: x\n"
     ]
    },
    {
     "data": {
      "text/plain": [
       "<matplotlib.lines.Line2D at 0x26083c73310>"
      ]
     },
     "execution_count": 2,
     "metadata": {},
     "output_type": "execute_result"
    },
    {
     "data": {
      "image/png": "[encoded data removed]",
      "text/plain": [
       "<Figure size 432x288 with 1 Axes>"
      ]
     },
     "metadata": {
      "needs_background": "light"
     },
     "output_type": "display_data"
    }
   ],
   "source": [
    "import matplotlib.pyplot as plt\n",
    "x=int(input(\"Enter the value of x coordinate: \"))\n",
    "y=int(input(\"Enter the value of y coordinate: \"))\n",
    "axis=input(\"Reflection wrt to which axis: \")\n",
    "\n",
    "if axis=='y':\n",
    "    xref=-x\n",
    "    yref=y\n",
    "elif axis=='x':\n",
    "    xref=x\n",
    "    yref=-y\n",
    "\n",
    "x=[x,xref]\n",
    "y=[y,yref]\n",
    "\n",
    "plt.scatter(x,y,color=['red','black'])\n",
    "plt.axhline(0,color='black')\n",
    "plt.axvline(0,color='black')"
   ]
  },
  {
   "cell_type": "code",
   "execution_count": 3,
   "id": "be963869",
   "metadata": {},
   "outputs": [
    {
     "name": "stdout",
     "output_type": "stream",
     "text": [
      "The reflection of points (3,2) and (5,1)\n"
     ]
    },
    {
     "data": {
      "text/plain": [
       "[<matplotlib.lines.Line2D at 0x26085d8f610>]"
      ]
     },
     "execution_count": 3,
     "metadata": {},
     "output_type": "execute_result"
    },
    {
     "data": {
      "image/png": "[encoded data removed]",
      "text/plain": [
       "<Figure size 432x288 with 1 Axes>"
      ]
     },
     "metadata": {
      "needs_background": "light"
     },
     "output_type": "display_data"
    }
   ],
   "source": [
    "import cmath\n",
    "print(\"The reflection of points (3,2) and (5,1)\")\n",
    "A=[-3,3,3]\n",
    "B=[2,2,-2]\n",
    "plt.plot(A,B,marker='o')\n",
    "C=[-5,5,5]\n",
    "D=[1,1,-1]\n",
    "plt.axhline(0,linewidth=1,color='black')\n",
    "plt.axvline(0,linewidth=1,color='black')\n",
    "plt.plot(C,D,marker='o')"
   ]
  },
  {
   "cell_type": "markdown",
   "id": "bca4b9ff",
   "metadata": {},
   "source": [
    "### The reflection of a complex number z about the real axis is its conjugate z bar, and the reflection about imaginary axis is -z bar."
   ]
  },
  {
   "cell_type": "markdown",
   "id": "df807680",
   "metadata": {},
   "source": [
    "##### Plot the reflection points 1+4j, 3+2j, -2+j wrt to imaginary axis in plane"
   ]
  },
  {
   "cell_type": "code",
   "execution_count": 4,
   "id": "a05119ff",
   "metadata": {
    "scrolled": true
   },
   "outputs": [
    {
     "name": "stdout",
     "output_type": "stream",
     "text": [
      "[(2+1j), (-1+4j), (-3+2j)]\n"
     ]
    },
    {
     "data": {
      "image/png": "[encoded data removed]",
      "text/plain": [
       "<Figure size 432x288 with 1 Axes>"
      ]
     },
     "metadata": {
      "needs_background": "light"
     },
     "output_type": "display_data"
    }
   ],
   "source": [
    "from pylab import *\n",
    "z=[-2+1j,1+4j,3+2j]\n",
    "w= [-conjugate(x) for x in z]\n",
    "print(w)\n",
    "X1 = [x.real for x in z]\n",
    "Y1 = [x.imag for x in z]\n",
    "X2 = [x.real for x in w]\n",
    "Y2 = [x.imag for x in w]\n",
    "plt.axhline(0,linewidth=1,color='black')\n",
    "plt.axvline(0,linewidth=1,color='black')\n",
    "plot(X1,Y1,color='red',label='Original Points',marker='*')\n",
    "plot(X2,Y2,color='blue',label='Reflections',marker='o')\n",
    "xlabel(\"Real axis\")\n",
    "ylabel(\"Imaginary Axis\")\n",
    "title(\"Plotting reflection against y-axis\")\n",
    "legend()\n",
    "show()"
   ]
  },
  {
   "cell_type": "markdown",
   "id": "62860975",
   "metadata": {},
   "source": [
    "# Translation"
   ]
  },
  {
   "cell_type": "code",
   "execution_count": 5,
   "id": "1cdf0681",
   "metadata": {},
   "outputs": [
    {
     "name": "stdout",
     "output_type": "stream",
     "text": [
      "(5+5j)\n"
     ]
    },
    {
     "data": {
      "image/png": "[encoded data removed]",
      "text/plain": [
       "<Figure size 432x288 with 1 Axes>"
      ]
     },
     "metadata": {
      "needs_background": "light"
     },
     "output_type": "display_data"
    }
   ],
   "source": [
    "import matplotlib.pyplot as plt\n",
    "import numpy as np\n",
    "def translation(x,y,p,q):\n",
    "    u=complex(x,y)\n",
    "    plt.polar([0,np.angle(u)],[0,np.abs(u)],marker='o',label=\"Original Point\")\n",
    "    v=complex(p,q)\n",
    "    w=u+v\n",
    "    print(w)\n",
    "    \n",
    "    plt.polar([np.angle(v),np.angle(w)],[np.abs(v),np.abs(w)],marker='o',label=\"Translation Point\")\n",
    "    \n",
    "translation(3,2,2,3)"
   ]
  },
  {
   "cell_type": "code",
   "execution_count": 6,
   "id": "7ab01317",
   "metadata": {},
   "outputs": [
    {
     "name": "stdout",
     "output_type": "stream",
     "text": [
      "(5+5j)\n"
     ]
    },
    {
     "data": {
      "image/png": "[encoded data removed]",
      "text/plain": [
       "<Figure size 432x288 with 1 Axes>"
      ]
     },
     "metadata": {
      "needs_background": "light"
     },
     "output_type": "display_data"
    }
   ],
   "source": [
    "## cartesian\n",
    "def translation1(x,y,p,q): \n",
    "    u=complex(x,y) \n",
    "    plt.axhline(0,linewidth=1,color=\"black\") \n",
    "    plt.axvline(0,linewidth=1,color=\"black\") \n",
    "    plt.plot([0,x],[0,y],marker=\"o\",label=\"Original point\") \n",
    "    v=complex(p,q) \n",
    "    w=u+v \n",
    "    print(w) \n",
    "    plt.axhline(3,linewidth=1,color=\"black\") \n",
    "    plt.axvline(2,linewidth=1,color=\"black\") \n",
    "    plt.plot([2,w.real],[3,w.imag],marker=\"o\",label=\"Translation point\") \n",
    "    plt.legend() \n",
    "translation1(3,2,2,3)"
   ]
  },
  {
   "cell_type": "markdown",
   "id": "fcb3f7b6",
   "metadata": {},
   "source": [
    "# Rotation"
   ]
  },
  {
   "cell_type": "code",
   "execution_count": 7,
   "id": "d5c9541e",
   "metadata": {},
   "outputs": [
    {
     "data": {
      "image/png": "[encoded data removed]",
      "text/plain": [
       "<Figure size 432x288 with 1 Axes>"
      ]
     },
     "metadata": {
      "needs_background": "light"
     },
     "output_type": "display_data"
    }
   ],
   "source": [
    "a=complex(3,2) \n",
    "cc=complex(2,3) \n",
    "alpha=angle(cc) \n",
    "w1=a*exp(alpha*1j) \n",
    "plt.polar([0,np.angle(a)],[0,np.abs(a)],marker=\"o\",color='red') \n",
    "None"
   ]
  },
  {
   "cell_type": "markdown",
   "id": "ba7a3028",
   "metadata": {},
   "source": [
    "# Bilinear Transformation"
   ]
  },
  {
   "cell_type": "markdown",
   "id": "376bcd72",
   "metadata": {},
   "source": [
    "Transformation of the form \n",
    "w= T(z)=az+b/cz+d\n",
    "are bilinear transformations, where ad-bc not equal to 0"
   ]
  },
  {
   "cell_type": "code",
   "execution_count": 8,
   "id": "be93e30b",
   "metadata": {},
   "outputs": [],
   "source": [
    "from sympy import *\n",
    "def BT(z1,z2,z3,w1,w2,w3):\n",
    "    z=Symbol('z')\n",
    "    w=Symbol('w')\n",
    "    Z = ((z-z1)*(z2-z3))/((z1-z2)*(z3-z))\n",
    "    W = ((w-w1)*(w2-w3))/((w1-w2)*(w3-w))\n",
    "    eq = Z-W\n",
    "    print(\"the bilinear transformation is: \")\n",
    "    print((solve(eq,w)))\n",
    "    "
   ]
  },
  {
   "cell_type": "code",
   "execution_count": 9,
   "id": "5f03a04c",
   "metadata": {},
   "outputs": [
    {
     "name": "stdout",
     "output_type": "stream",
     "text": [
      "the bilinear transformation is: \n",
      "[(z - I)/(-I*z + 1.0)]\n"
     ]
    }
   ],
   "source": [
    "### 1. Find the bilinear transformation that takes (1,i,-1)\n",
    "BT(1,1j,-1,1,0,-1)"
   ]
  },
  {
   "cell_type": "code",
   "execution_count": 10,
   "id": "1a1f6865",
   "metadata": {},
   "outputs": [
    {
     "name": "stdout",
     "output_type": "stream",
     "text": [
      "the bilinear transformation is: \n",
      "[(-z*(2.0 + I) + 3.0 + 2.0*I)/(-z + 2.0 + I)]\n"
     ]
    }
   ],
   "source": [
    "BT(2,1,1j,1j,1,2)"
   ]
  },
  {
   "cell_type": "code",
   "execution_count": 11,
   "id": "87550aeb",
   "metadata": {},
   "outputs": [
    {
     "name": "stdout",
     "output_type": "stream",
     "text": [
      "the bilinear transformation is: \n",
      "[(z*(27.0 + 160.0*I) - 407.0 - 540.0*I)/(z*(3.0 - 130.0*I) - 193.0 - 60.0*I)]\n"
     ]
    }
   ],
   "source": [
    "BT(1,1j,20,2,9,-1)"
   ]
  },
  {
   "cell_type": "code",
   "execution_count": 12,
   "id": "1839d7f3",
   "metadata": {},
   "outputs": [
    {
     "name": "stdout",
     "output_type": "stream",
     "text": [
      "the bilinear transformation is: \n",
      "[(z*(2.0 + I) + 2.0 + 7.0*I)/(z*(1.0 + 2.0*I) + 7.0 + 2.0*I)]\n"
     ]
    }
   ],
   "source": [
    "BT(5,-1,-3,1,1j,-1)"
   ]
  },
  {
   "cell_type": "markdown",
   "id": "60ddff6f",
   "metadata": {},
   "source": [
    "### Conclusion - \n",
    "In this lab, we learnt about the concept of Bilinear Transformation. We learnt how The Bilinear Transformation maps points from one complex plane to another, and it is characterized by its linearity in both the numerator and the denominator of the transformation formula. It is commonly used in areas such as image warping, image scaling, and geometric transformations in computer graphics and image processing."
   ]
  },
  {
   "cell_type": "markdown",
   "id": "4f99f0f2",
   "metadata": {},
   "source": [
    "# LAB 10\n",
    "# Convergence and Divergence of Complex Series"
   ]
  },
  {
   "cell_type": "markdown",
   "id": "4a7cdac9",
   "metadata": {},
   "source": [
    "## Aim: \n",
    "We aim to explore the generation of Maclaruin and Taylor series using for various fucntions. "
   ]
  },
  {
   "cell_type": "markdown",
   "id": "05f85da0",
   "metadata": {},
   "source": [
    "### 20-4-23"
   ]
  },
  {
   "cell_type": "markdown",
   "id": "d71e6482",
   "metadata": {},
   "source": [
    "### Maclaurin series"
   ]
  },
  {
   "cell_type": "markdown",
   "id": "2e61df1e",
   "metadata": {},
   "source": [
    "### z=1/(1-z)"
   ]
  },
  {
   "cell_type": "code",
   "execution_count": 13,
   "id": "8b5e5a13",
   "metadata": {},
   "outputs": [
    {
     "name": "stdout",
     "output_type": "stream",
     "text": [
      "              6               4      3      2        \n",
      "     7   720⋅z        5   24⋅z    3⋅z    2⋅z    z    \n",
      "630⋅z  + ────── + 20⋅z  + ───── + ──── + ──── + ─ + 1\n",
      "           7                5      2      3     2    \n"
     ]
    }
   ],
   "source": [
    "import numpy as np\n",
    "from sympy import *\n",
    "import math\n",
    "def factorial(n):\n",
    "    fact=1\n",
    "    for i in range(1,n+1):\n",
    "        fact=fact+1\n",
    "    return fact\n",
    "x,z,z0=symbols('x,z,z0')\n",
    "z0=0\n",
    "fun=1/(1-x)\n",
    "series=0\n",
    "\n",
    "dif=fun\n",
    "for i in range(8):\n",
    "    if(i!=0):\n",
    "        dif=diff(dif)\n",
    "        exp=dif.subs(x,0)* (z)**i/factorial(i)\n",
    "        series=series+exp\n",
    "    else:\n",
    "        exp=dif.subs(x,0)*(z)**i/factorial(i)\n",
    "        series=series+exp\n",
    "pprint(series)"
   ]
  },
  {
   "cell_type": "markdown",
   "id": "73efc970",
   "metadata": {},
   "source": [
    "### Taylor Series"
   ]
  },
  {
   "cell_type": "markdown",
   "id": "d0ebe87d",
   "metadata": {},
   "source": [
    "### z=1/(1-z)"
   ]
  },
  {
   "cell_type": "code",
   "execution_count": 15,
   "id": "a45de66e",
   "metadata": {},
   "outputs": [
    {
     "name": "stdout",
     "output_type": "stream",
     "text": [
      "         3            2                       \n",
      "(z - 2⋅ⅈ)    (z - 2⋅ⅈ)     z - 2⋅ⅈ     1 + 2⋅ⅈ\n",
      "────────── + ────────── + ────────── + ───────\n",
      "         4            3            2      5   \n",
      "(1 - 2⋅ⅈ)    (1 - 2⋅ⅈ)    (1 - 2⋅ⅈ)           \n"
     ]
    }
   ],
   "source": [
    "import numpy as np\n",
    "from sympy import *\n",
    "import math\n",
    "def factorial(n):\n",
    "    fact=1\n",
    "    for i in range(1,n+1):\n",
    "        fact=fact*i\n",
    "    return fact\n",
    "x,z,z0=symbols('x,z,z0')\n",
    "z0=2*I\n",
    "fun=1/(1-x)\n",
    "series=0\n",
    "\n",
    "dif=fun\n",
    "for i in range(4):\n",
    "    if(i!=0):\n",
    "        dif=diff(dif)\n",
    "        exp=dif.subs(x,z0)* (z-z0)**i/factorial(i)\n",
    "        series=series+exp\n",
    "    else:\n",
    "        exp=dif.subs(x,z0)*(z-z0)**i/factorial(i)\n",
    "        series=series+exp\n",
    "pprint(series)"
   ]
  },
  {
   "cell_type": "markdown",
   "id": "5c30db19",
   "metadata": {},
   "source": [
    "### Graphical approximation of taylor series of various orders"
   ]
  },
  {
   "cell_type": "code",
   "execution_count": 16,
   "id": "8cafc95d",
   "metadata": {},
   "outputs": [
    {
     "data": {
      "image/png": "[encoded data removed]",
      "text/plain": [
       "<Figure size 432x288 with 1 Axes>"
      ]
     },
     "metadata": {
      "needs_background": "light"
     },
     "output_type": "display_data"
    }
   ],
   "source": [
    "import numpy as np\n",
    "from sympy import *\n",
    "import matplotlib.pyplot as plt\n",
    "\n",
    "x=np.linspace(-np.pi,np.pi,200)\n",
    "y=np.zeros(len(x))\n",
    "\n",
    "labels=['First Order','Third order','Fifth order','Seventh order']\n",
    "\n",
    "for n,label in zip(range(7),labels):\n",
    "    y=y+((-i)**n * (x)**(2*n+1)) / np.math.factorial(2*n+1)\n",
    "    plt.plot(x,y,label=label)\n",
    "\n",
    "plt.plot(x,np.sin(x),'k',label='Analytic')\n",
    "plt.grid()\n",
    "plt.title(\"Taylor series approximation of various orders\")\n",
    "plt.xlabel('x')\n",
    "plt.ylabel('y')\n",
    "plt.legend()\n",
    "plt.show()"
   ]
  },
  {
   "cell_type": "markdown",
   "id": "dee8d1cd",
   "metadata": {},
   "source": [
    "## Conclusion: \n",
    "In conclusion, during this lab, we gained an understanding of Taylor series and Maclaurin series, which is a specific case of Taylor series. We also observed graphical representations of Taylor series approximations at different orders."
   ]
  },
  {
   "cell_type": "markdown",
   "id": "71da6911",
   "metadata": {},
   "source": [
    "# LAB 11\n",
    "# Applications Of Complex Analysis"
   ]
  },
  {
   "cell_type": "markdown",
   "id": "40092d79",
   "metadata": {},
   "source": [
    "### 24.04.23"
   ]
  },
  {
   "cell_type": "markdown",
   "id": "9399dea0",
   "metadata": {},
   "source": [
    "### Aim:\n",
    "The objective of this lab is to explore practical applications of Complex Analysis, with a specific focus on the Julia Set as one of the examples."
   ]
  },
  {
   "cell_type": "markdown",
   "id": "70770858",
   "metadata": {},
   "source": [
    "#### Julia Set\n",
    "#### It is a set of complex numbers which do not converge to any limit when a given mapping is repeatedly applied to them.  In some cases the result is a connected fractcal set."
   ]
  },
  {
   "cell_type": "markdown",
   "id": "5162f270",
   "metadata": {},
   "source": [
    "##### The function julia_set takes the arguements.\n",
    "##### 1. c an arbitary complex number\n",
    "##### 2. num_iter the number of iterations to perform\n",
    "##### 3. N the number of grid points on each axis in the grid and\n",
    "##### 4. x0 is the limits of the grid."
   ]
  },
  {
   "cell_type": "markdown",
   "id": "b2d0fe61",
   "metadata": {},
   "source": [
    "##### During each step in the for loop, after z=z^2+c, we check which points in z are still smaller than infinity. The number of iterations taken by each point to blow up to iinifity is recorded in F. By plotting F as a 2 dimensional image, the Julia set finally reveals itself"
   ]
  },
  {
   "cell_type": "code",
   "execution_count": 18,
   "id": "f4a701cf",
   "metadata": {},
   "outputs": [],
   "source": [
    "import numpy as np\n",
    "import matplotlib.pyplot as plt\n",
    "def julia_set(c=-0.835-0.2321*1j,num_iter=50, N=1000, X0=np.array([-2,2,-2,2])):\n",
    "    \n",
    "    \"\"\"\n",
    "    This function creates the Julia set.\n",
    "    Inputs\n",
    "        c: (Complex) arbitary complex number to add to the grid z\n",
    "        nume_iter: (int) number of iterations to perform\n",
    "        N: (int) Number of grid points on each axis of z\n",
    "        X0: (array) limits of the grid z\n",
    "    Output\n",
    "        x: (Array) value of the real x axis used in the grid\n",
    "        y: (Array) values of the imaginary y axis used in the grid\n",
    "        F: (Array) the complex grid containing julia set\n",
    "    \n",
    "    \"\"\"\n",
    "    x0=X0[0]\n",
    "    y0=X0[2]\n",
    "    x1=X0[1]\n",
    "    y1=X0[3]\n",
    "    # Set up complex grid. Each element in the grid\n",
    "    # is a complex number x+iy\n",
    "    \n",
    "    x,y=np.meshgrid(np.linspace(x0,x1,N),\n",
    "                   np.linspace(y0,y1,N)*1j)\n",
    "    z=x+y\n",
    "    # F keeps track of which grid points are bounded\n",
    "    # even after many iterations of z:= z**2+c\n",
    "    F=np.zeros([N,N])\n",
    "    # Iterate through operation z:= z**2+c\n",
    "    for j in range(num_iter):\n",
    "        z=z**2+c\n",
    "        index=np.abs(z) < np.inf\n",
    "        F[index] = F[index] + 1\n",
    "    return np.linspace(x0,x1,N), np.linspace(y0,y1,N), F"
   ]
  },
  {
   "cell_type": "code",
   "execution_count": 17,
   "id": "345e5cd5",
   "metadata": {},
   "outputs": [
    {
     "name": "stderr",
     "output_type": "stream",
     "text": [
      "<ipython-input-17-c8e6f023be1e>:16: RuntimeWarning: overflow encountered in square\n",
      "  z=z**2+c\n",
      "<ipython-input-17-c8e6f023be1e>:16: RuntimeWarning: invalid value encountered in square\n",
      "  z=z**2+c\n",
      "<ipython-input-17-c8e6f023be1e>:17: RuntimeWarning: overflow encountered in absolute\n",
      "  index=np.abs(z)<np.inf\n"
     ]
    },
    {
     "data": {
      "image/png": "[encoded data removed]",
      "text/plain": [
       "<Figure size 432x288 with 2 Axes>"
      ]
     },
     "metadata": {
      "needs_background": "light"
     },
     "output_type": "display_data"
    }
   ],
   "source": [
    "import numpy as np\n",
    "import matplotlib.pyplot as plt\n",
    "\n",
    "def juliaset(c=-0.835-0.2321*1j,num_iter=50,N=1000, X0=np.array([-2,2,-2,2])):\n",
    "    x0=X0[0]\n",
    "    x1=X0[1]\n",
    "    y0=X0[2]\n",
    "    y1=X0[3]\n",
    "\n",
    "    x,y=np.meshgrid(np.linspace(x0,x1,N),\n",
    "                    np.linspace(y0,y1,N)*1j)\n",
    "\n",
    "    z=x+y\n",
    "    F=np.zeros([N,N])\n",
    "    for j in range(num_iter):\n",
    "        z=z**2+c\n",
    "        index=np.abs(z)<np.inf\n",
    "        F[index]=F[index]+1\n",
    "    return np.linspace(x0,x1,N),np.linspace(y0,y1,N),F\n",
    "\n",
    "# Set the parameters for the Julia set\n",
    "c = -0.835 - 0.2321*1j\n",
    "num_iter = 50\n",
    "N = 1000\n",
    "X0 = np.array([-2, 2, -2, 2])\n",
    "\n",
    "# Generate the Julia set\n",
    "x, y, F = juliaset(c, num_iter, N, X0)\n",
    "\n",
    "# Plot the Julia set\n",
    "plt.imshow(F, cmap='hot', extent=[x[0], x[-1], y[0], y[-1]])\n",
    "plt.xlabel('Real Part')\n",
    "plt.ylabel('Imaginary Part')\n",
    "plt.title('Julia Set')\n",
    "plt.colorbar()\n",
    "plt.show()\n"
   ]
  },
  {
   "cell_type": "markdown",
   "id": "8b481ac9",
   "metadata": {},
   "source": [
    "## Conclusion:\n",
    "Thus we learnt how Julia set is a fractal set of complex numbers that are associated with a certain iterative function. The set is named after the French mathematician Gaston Julia who studied its properties in the early 20th century. Julia sets are closely related to the Mandelbrot set and are used to study the dynamics of complex functions. They have applications in fields such as physics, engineering, and computer graphics."
   ]
  },
  {
   "cell_type": "markdown",
   "id": "0b176396",
   "metadata": {},
   "source": [
    "# Conclusion of MAT651 \n",
    "We convered various topics regarding complex analysis such as: \n",
    "Basics and Visualization of complex numbers: <br>\n",
    "Limit of complex number  <br>\n",
    "Analytic Function  <br>\n",
    "CR Equations  <br>\n",
    "Harmonic Functions  <br>\n",
    "Harmonic Conjugates  <br>\n",
    "Milne Thmonson Method  <br>\n",
    "Orthogonal Families of curve  <br>\n",
    "Conformal Mapping <br>\n",
    "Bilinear Transformations <br>\n",
    "\n",
    "This lab helped us develop an innated understanding of the working of complex numbers, complex analysis and its various applications using Python and various of its tools like visualisation and solving complex problems. "
   ]
  },
  {
   "cell_type": "code",
   "execution_count": null,
   "id": "6adb95ce",
   "metadata": {},
   "outputs": [],
   "source": []
  }
 ],
 "metadata": {
  "kernelspec": {
   "display_name": "Python 3",
   "language": "python",
   "name": "python3"
  },
  "language_info": {
   "codemirror_mode": {
    "name": "ipython",
    "version": 3
   },
   "file_extension": ".py",
   "mimetype": "text/x-python",
   "name": "python",
   "nbconvert_exporter": "python",
   "pygments_lexer": "ipython3",
   "version": "3.8.8"
  }
 },
 "nbformat": 4,
 "nbformat_minor": 5
}
